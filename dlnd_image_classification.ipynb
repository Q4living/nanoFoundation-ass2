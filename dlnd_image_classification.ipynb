{
 "cells": [
  {
   "cell_type": "markdown",
   "metadata": {
    "collapsed": true,
    "deletable": true,
    "editable": true
   },
   "source": [
    "# Image Classification\n",
    "In this project, you'll classify images from the [CIFAR-10 dataset](https://www.cs.toronto.edu/~kriz/cifar.html).  The dataset consists of airplanes, dogs, cats, and other objects. You'll preprocess the images, then train a convolutional neural network on all the samples. The images need to be normalized and the labels need to be one-hot encoded.  You'll get to apply what you learned and build a convolutional, max pooling, dropout, and fully connected layers.  At the end, you'll get to see your neural network's predictions on the sample images.\n",
    "## Get the Data\n",
    "Run the following cell to download the [CIFAR-10 dataset for python](https://www.cs.toronto.edu/~kriz/cifar-10-python.tar.gz)."
   ]
  },
  {
   "cell_type": "code",
   "execution_count": 1,
   "metadata": {
    "collapsed": false,
    "deletable": true,
    "editable": true
   },
   "outputs": [
    {
     "name": "stdout",
     "output_type": "stream",
     "text": [
      "All files found!\n"
     ]
    }
   ],
   "source": [
    "\"\"\"\n",
    "DON'T MODIFY ANYTHING IN THIS CELL THAT IS BELOW THIS LINE\n",
    "\"\"\"\n",
    "from urllib.request import urlretrieve\n",
    "from os.path import isfile, isdir\n",
    "from tqdm import tqdm\n",
    "import problem_unittests as tests\n",
    "import tarfile\n",
    "\n",
    "cifar10_dataset_folder_path = 'cifar-10-batches-py'\n",
    "\n",
    "# Use Floyd's cifar-10 dataset if present\n",
    "floyd_cifar10_location = '/input/cifar-10/python.tar.gz'\n",
    "if isfile(floyd_cifar10_location):\n",
    "    tar_gz_path = floyd_cifar10_location\n",
    "else:\n",
    "    tar_gz_path = 'cifar-10-python.tar.gz'\n",
    "\n",
    "class DLProgress(tqdm):\n",
    "    last_block = 0\n",
    "\n",
    "    def hook(self, block_num=1, block_size=1, total_size=None):\n",
    "        self.total = total_size\n",
    "        self.update((block_num - self.last_block) * block_size)\n",
    "        self.last_block = block_num\n",
    "\n",
    "if not isfile(tar_gz_path):\n",
    "    with DLProgress(unit='B', unit_scale=True, miniters=1, desc='CIFAR-10 Dataset') as pbar:\n",
    "        urlretrieve(\n",
    "            'https://www.cs.toronto.edu/~kriz/cifar-10-python.tar.gz',\n",
    "            tar_gz_path,\n",
    "            pbar.hook)\n",
    "\n",
    "if not isdir(cifar10_dataset_folder_path):\n",
    "    with tarfile.open(tar_gz_path) as tar:\n",
    "        tar.extractall()\n",
    "        tar.close()\n",
    "\n",
    "\n",
    "tests.test_folder_path(cifar10_dataset_folder_path)"
   ]
  },
  {
   "cell_type": "markdown",
   "metadata": {
    "deletable": true,
    "editable": true
   },
   "source": [
    "## Explore the Data\n",
    "The dataset is broken into batches to prevent your machine from running out of memory.  The CIFAR-10 dataset consists of 5 batches, named `data_batch_1`, `data_batch_2`, etc.. Each batch contains the labels and images that are one of the following:\n",
    "* airplane\n",
    "* automobile\n",
    "* bird\n",
    "* cat\n",
    "* deer\n",
    "* dog\n",
    "* frog\n",
    "* horse\n",
    "* ship\n",
    "* truck\n",
    "\n",
    "Understanding a dataset is part of making predictions on the data.  Play around with the code cell below by changing the `batch_id` and `sample_id`. The `batch_id` is the id for a batch (1-5). The `sample_id` is the id for a image and label pair in the batch.\n",
    "\n",
    "Ask yourself \"What are all possible labels?\", \"What is the range of values for the image data?\", \"Are the labels in order or random?\".  Answers to questions like these will help you preprocess the data and end up with better predictions."
   ]
  },
  {
   "cell_type": "code",
   "execution_count": 5,
   "metadata": {
    "collapsed": false,
    "deletable": true,
    "editable": true
   },
   "outputs": [
    {
     "name": "stdout",
     "output_type": "stream",
     "text": [
      "\n",
      "Stats of batch 1:\n",
      "Samples: 10000\n",
      "Label Counts: {0: 1005, 1: 974, 2: 1032, 3: 1016, 4: 999, 5: 937, 6: 1030, 7: 1001, 8: 1025, 9: 981}\n",
      "First 20 Labels: [6, 9, 9, 4, 1, 1, 2, 7, 8, 3, 4, 7, 7, 2, 9, 9, 9, 3, 2, 6]\n",
      "\n",
      "Example of Image 5:\n",
      "Image - Min Value: 0 Max Value: 252\n",
      "Image - Shape: (32, 32, 3)\n",
      "Label - Label Id: 1 Name: automobile\n"
     ]
    },
    {
     "data": {
      "image/png": "[encoded data removed]",
      "text/plain": [
       "<matplotlib.figure.Figure at 0x7fef5bd0f438>"
      ]
     },
     "metadata": {
      "image/png": {
       "height": 250,
       "width": 253
      }
     },
     "output_type": "display_data"
    }
   ],
   "source": [
    "%matplotlib inline\n",
    "%config InlineBackend.figure_format = 'retina'\n",
    "\n",
    "import helper\n",
    "import numpy as np\n",
    "from sklearn import preprocessing\n",
    "\n",
    "# Explore the dataset\n",
    "batch_id = 1\n",
    "sample_id = 5\n",
    "helper.display_stats(cifar10_dataset_folder_path, batch_id, sample_id)"
   ]
  },
  {
   "cell_type": "markdown",
   "metadata": {
    "deletable": true,
    "editable": true
   },
   "source": [
    "## Implement Preprocess Functions\n",
    "### Normalize\n",
    "In the cell below, implement the `normalize` function to take in image data, `x`, and return it as a normalized Numpy array. The values should be in the range of 0 to 1, inclusive.  The return object should be the same shape as `x`."
   ]
  },
  {
   "cell_type": "code",
   "execution_count": 6,
   "metadata": {
    "collapsed": false,
    "deletable": true,
    "editable": true
   },
   "outputs": [
    {
     "name": "stdout",
     "output_type": "stream",
     "text": [
      "Tests Passed\n"
     ]
    }
   ],
   "source": [
    "def normalize(x):\n",
    "    \"\"\"\n",
    "    Normalize a list of sample image data in the range of 0 to 1\n",
    "    : x: List of image data.  The image shape is (32, 32, 3)\n",
    "    : return: Numpy array of normalize data\n",
    "    \"\"\"\n",
    "    # TODO: Implement Function\n",
    "    return (x-x.min())/x.max()\n",
    "\n",
    "\n",
    "\"\"\"\n",
    "DON'T MODIFY ANYTHING IN THIS CELL THAT IS BELOW THIS LINE\n",
    "\"\"\"\n",
    "tests.test_normalize(normalize)"
   ]
  },
  {
   "cell_type": "markdown",
   "metadata": {
    "deletable": true,
    "editable": true
   },
   "source": [
    "### One-hot encode\n",
    "Just like the previous code cell, you'll be implementing a function for preprocessing.  This time, you'll implement the `one_hot_encode` function. The input, `x`, are a list of labels.  Implement the function to return the list of labels as One-Hot encoded Numpy array.  The possible values for labels are 0 to 9. The one-hot encoding function should return the same encoding for each value between each call to `one_hot_encode`.  Make sure to save the map of encodings outside the function.\n",
    "\n",
    "Hint: Don't reinvent the wheel."
   ]
  },
  {
   "cell_type": "code",
   "execution_count": 7,
   "metadata": {
    "collapsed": false,
    "deletable": true,
    "editable": true
   },
   "outputs": [
    {
     "name": "stdout",
     "output_type": "stream",
     "text": [
      "Tests Passed\n"
     ]
    }
   ],
   "source": [
    "def one_hot_encode(x):\n",
    "    \"\"\"\n",
    "    One hot encode a list of sample labels. Return a one-hot encoded vector for each label.\n",
    "    : x: List of sample Labels\n",
    "    : return: Numpy array of one-hot encoded labels\n",
    "    \"\"\"\n",
    "    # TODO: Implement Function\n",
    "    global labels\n",
    "    lb = preprocessing.LabelBinarizer()\n",
    "    \n",
    "    try:\n",
    "        labels\n",
    "    except NameError:\n",
    "        labels = lb.fit(x)\n",
    "        \n",
    "    return labels.transform(x)\n",
    "\n",
    "\n",
    "\"\"\"\n",
    "DON'T MODIFY ANYTHING IN THIS CELL THAT IS BELOW THIS LINE\n",
    "\"\"\"\n",
    "tests.test_one_hot_encode(one_hot_encode)"
   ]
  },
  {
   "cell_type": "markdown",
   "metadata": {
    "deletable": true,
    "editable": true
   },
   "source": [
    "### Randomize Data\n",
    "As you saw from exploring the data above, the order of the samples are randomized.  It doesn't hurt to randomize it again, but you don't need to for this dataset."
   ]
  },
  {
   "cell_type": "markdown",
   "metadata": {
    "deletable": true,
    "editable": true
   },
   "source": [
    "## Preprocess all the data and save it\n",
    "Running the code cell below will preprocess all the CIFAR-10 data and save it to file. The code below also uses 10% of the training data for validation."
   ]
  },
  {
   "cell_type": "code",
   "execution_count": 8,
   "metadata": {
    "collapsed": false,
    "deletable": true,
    "editable": true
   },
   "outputs": [],
   "source": [
    "\"\"\"\n",
    "DON'T MODIFY ANYTHING IN THIS CELL\n",
    "\"\"\"\n",
    "# Preprocess Training, Validation, and Testing Data\n",
    "helper.preprocess_and_save_data(cifar10_dataset_folder_path, normalize, one_hot_encode)"
   ]
  },
  {
   "cell_type": "markdown",
   "metadata": {
    "deletable": true,
    "editable": true
   },
   "source": [
    "# Check Point\n",
    "This is your first checkpoint.  If you ever decide to come back to this notebook or have to restart the notebook, you can start from here.  The preprocessed data has been saved to disk."
   ]
  },
  {
   "cell_type": "code",
   "execution_count": 9,
   "metadata": {
    "collapsed": true,
    "deletable": true,
    "editable": true
   },
   "outputs": [],
   "source": [
    "\"\"\"\n",
    "DON'T MODIFY ANYTHING IN THIS CELL\n",
    "\"\"\"\n",
    "import pickle\n",
    "import problem_unittests as tests\n",
    "import helper\n",
    "\n",
    "\n",
    "# Load the Preprocessed Validation data\n",
    "valid_features, valid_labels = pickle.load(open('preprocess_validation.p', mode='rb'))"
   ]
  },
  {
   "cell_type": "markdown",
   "metadata": {
    "deletable": true,
    "editable": true
   },
   "source": [
    "## Build the network\n",
    "For the neural network, you'll build each layer into a function.  Most of the code you've seen has been outside of functions. To test your code more thoroughly, we require that you put each layer in a function.  This allows us to give you better feedback and test for simple mistakes using our unittests before you submit your project.\n",
    "\n",
    ">**Note:** If you're finding it hard to dedicate enough time for this course each week, we've provided a small shortcut to this part of the project. In the next couple of problems, you'll have the option to use classes from the [TensorFlow Layers](https://www.tensorflow.org/api_docs/python/tf/layers) or [TensorFlow Layers (contrib)](https://www.tensorflow.org/api_guides/python/contrib.layers) packages to build each layer, except the layers you build in the \"Convolutional and Max Pooling Layer\" section.  TF Layers is similar to Keras's and TFLearn's abstraction to layers, so it's easy to pickup.\n",
    "\n",
    ">However, if you would like to get the most out of this course, try to solve all the problems _without_ using anything from the TF Layers packages. You **can** still use classes from other packages that happen to have the same name as ones you find in TF Layers! For example, instead of using the TF Layers version of the `conv2d` class, [tf.layers.conv2d](https://www.tensorflow.org/api_docs/python/tf/layers/conv2d), you would want to use the TF Neural Network version of `conv2d`, [tf.nn.conv2d](https://www.tensorflow.org/api_docs/python/tf/nn/conv2d). \n",
    "\n",
    "Let's begin!\n",
    "\n",
    "### Input\n",
    "The neural network needs to read the image data, one-hot encoded labels, and dropout keep probability. Implement the following functions\n",
    "* Implement `neural_net_image_input`\n",
    " * Return a [TF Placeholder](https://www.tensorflow.org/api_docs/python/tf/placeholder)\n",
    " * Set the shape using `image_shape` with batch size set to `None`.\n",
    " * Name the TensorFlow placeholder \"x\" using the TensorFlow `name` parameter in the [TF Placeholder](https://www.tensorflow.org/api_docs/python/tf/placeholder).\n",
    "* Implement `neural_net_label_input`\n",
    " * Return a [TF Placeholder](https://www.tensorflow.org/api_docs/python/tf/placeholder)\n",
    " * Set the shape using `n_classes` with batch size set to `None`.\n",
    " * Name the TensorFlow placeholder \"y\" using the TensorFlow `name` parameter in the [TF Placeholder](https://www.tensorflow.org/api_docs/python/tf/placeholder).\n",
    "* Implement `neural_net_keep_prob_input`\n",
    " * Return a [TF Placeholder](https://www.tensorflow.org/api_docs/python/tf/placeholder) for dropout keep probability.\n",
    " * Name the TensorFlow placeholder \"keep_prob\" using the TensorFlow `name` parameter in the [TF Placeholder](https://www.tensorflow.org/api_docs/python/tf/placeholder).\n",
    "\n",
    "These names will be used at the end of the project to load your saved model.\n",
    "\n",
    "Note: `None` for shapes in TensorFlow allow for a dynamic size."
   ]
  },
  {
   "cell_type": "code",
   "execution_count": 10,
   "metadata": {
    "collapsed": false,
    "deletable": true,
    "editable": true
   },
   "outputs": [
    {
     "name": "stdout",
     "output_type": "stream",
     "text": [
      "Image Input Tests Passed.\n",
      "Label Input Tests Passed.\n",
      "Keep Prob Tests Passed.\n"
     ]
    }
   ],
   "source": [
    "import tensorflow as tf\n",
    "\n",
    "def neural_net_image_input(image_shape):\n",
    "    \"\"\"\n",
    "    Return a Tensor for a batch of image input\n",
    "    : image_shape: Shape of the images\n",
    "    : return: Tensor for image input.\n",
    "    \"\"\"\n",
    "    return tf.placeholder(tf.float32, shape=(None,image_shape[0],image_shape[1],image_shape[2]),name = \"x\")\n",
    "\n",
    "\n",
    "def neural_net_label_input(n_classes):\n",
    "    \"\"\"\n",
    "    Return a Tensor for a batch of label input\n",
    "    : n_classes: Number of classes\n",
    "    : return: Tensor for label input.\n",
    "    \"\"\"\n",
    "    # TODO: Implement Function\n",
    "    return tf.placeholder(tf.float32, shape=(None,n_classes),name = \"y\")\n",
    "\n",
    "\n",
    "def neural_net_keep_prob_input():\n",
    "    \"\"\"\n",
    "    Return a Tensor for keep probability\n",
    "    : return: Tensor for keep probability.\n",
    "    \"\"\"\n",
    "    # TODO: Implement Function\n",
    "    return tf.placeholder(tf.float32, shape=(None),name = \"keep_prob\")\n",
    "\n",
    "\"\"\"\n",
    "DON'T MODIFY ANYTHING IN THIS CELL THAT IS BELOW THIS LINE\n",
    "\"\"\"\n",
    "tf.reset_default_graph()\n",
    "tests.test_nn_image_inputs(neural_net_image_input)\n",
    "tests.test_nn_label_inputs(neural_net_label_input)\n",
    "tests.test_nn_keep_prob_inputs(neural_net_keep_prob_input)"
   ]
  },
  {
   "cell_type": "markdown",
   "metadata": {
    "deletable": true,
    "editable": true
   },
   "source": [
    "### Convolution and Max Pooling Layer\n",
    "Convolution layers have a lot of success with images. For this code cell, you should implement the function `conv2d_maxpool` to apply convolution then max pooling:\n",
    "* Create the weight and bias using `conv_ksize`, `conv_num_outputs` and the shape of `x_tensor`.\n",
    "* Apply a convolution to `x_tensor` using weight and `conv_strides`.\n",
    " * We recommend you use same padding, but you're welcome to use any padding.\n",
    "* Add bias\n",
    "* Add a nonlinear activation to the convolution.\n",
    "* Apply Max Pooling using `pool_ksize` and `pool_strides`.\n",
    " * We recommend you use same padding, but you're welcome to use any padding.\n",
    "\n",
    "**Note:** You **can't** use [TensorFlow Layers](https://www.tensorflow.org/api_docs/python/tf/layers) or [TensorFlow Layers (contrib)](https://www.tensorflow.org/api_guides/python/contrib.layers) for **this** layer, but you can still use TensorFlow's [Neural Network](https://www.tensorflow.org/api_docs/python/tf/nn) package. You may still use the shortcut option for all the **other** layers."
   ]
  },
  {
   "cell_type": "code",
   "execution_count": 12,
   "metadata": {
    "collapsed": false,
    "deletable": true,
    "editable": true
   },
   "outputs": [
    {
     "name": "stdout",
     "output_type": "stream",
     "text": [
      "Tests Passed\n"
     ]
    }
   ],
   "source": [
    "def conv2d_maxpool(x_tensor, conv_num_outputs, conv_ksize, conv_strides, pool_ksize, pool_strides):\n",
    "    \"\"\"\n",
    "    Apply convolution then max pooling to x_tensor\n",
    "    :param x_tensor: TensorFlow Tensor\n",
    "    :param conv_num_outputs: Number of outputs for the convolutional layer\n",
    "    :param conv_ksize: kernal size 2-D Tuple for the convolutional layer\n",
    "    :param conv_strides: Stride 2-D Tuple for convolution\n",
    "    :param pool_ksize: kernal size 2-D Tuple for pool\n",
    "    :param pool_strides: Stride 2-D Tuple for pool\n",
    "    : return: A tensor that represents convolution and max pooling of x_tensor\n",
    "    \"\"\"\n",
    "    # TODO: Implement Function\n",
    "    weight = tf.Variable(tf.truncated_normal(shape=[conv_ksize[0]\n",
    "                                                    ,conv_ksize[0]\n",
    "                                                    ,x_tensor.get_shape().as_list()[3]\n",
    "                                                    ,conv_num_outputs]\n",
    "                                             ,mean=0.0\n",
    "                                             ,stddev=0.1))\n",
    "    bias = tf.Variable(tf.zeros(conv_num_outputs))\n",
    "    conv_layer = tf.nn.conv2d(x_tensor\n",
    "                              ,weight\n",
    "                              ,strides=[1,conv_strides[0],conv_strides[1],1]\n",
    "                              ,padding='SAME')\n",
    "    \n",
    "    conv_layer = tf.nn.bias_add(conv_layer, bias)\n",
    "    conv_layer = tf.nn.relu(conv_layer)\n",
    "    \n",
    "    max_pool = tf.nn.max_pool(conv_layer, ksize=[1,pool_ksize[0],pool_ksize[1],1],\n",
    "                              strides=[1,pool_strides[0],pool_strides[1],1], padding='SAME')\n",
    "\n",
    "    return max_pool\n",
    "\n",
    "\"\"\"\n",
    "DON'T MODIFY ANYTHING IN THIS CELL THAT IS BELOW THIS LINE\n",
    "\"\"\"\n",
    "tests.test_con_pool(conv2d_maxpool)"
   ]
  },
  {
   "cell_type": "markdown",
   "metadata": {
    "deletable": true,
    "editable": true
   },
   "source": [
    "### Flatten Layer\n",
    "Implement the `flatten` function to change the dimension of `x_tensor` from a 4-D tensor to a 2-D tensor.  The output should be the shape (*Batch Size*, *Flattened Image Size*). Shortcut option: you can use classes from the [TensorFlow Layers](https://www.tensorflow.org/api_docs/python/tf/layers) or [TensorFlow Layers (contrib)](https://www.tensorflow.org/api_guides/python/contrib.layers) packages for this layer. For more of a challenge, only use other TensorFlow packages."
   ]
  },
  {
   "cell_type": "code",
   "execution_count": 13,
   "metadata": {
    "collapsed": false,
    "deletable": true,
    "editable": true
   },
   "outputs": [
    {
     "name": "stdout",
     "output_type": "stream",
     "text": [
      "Tests Passed\n"
     ]
    }
   ],
   "source": [
    "def flatten(x_tensor):\n",
    "    \"\"\"\n",
    "    Flatten x_tensor to (Batch Size, Flattened Image Size)\n",
    "    : x_tensor: A tensor of size (Batch Size, ...), where ... are the image dimensions.\n",
    "    : return: A tensor of size (Batch Size, Flattened Image Size).\n",
    "    \"\"\"\n",
    "    # TODO: Implement Function\n",
    "    return tf.contrib.layers.flatten(x_tensor)\n",
    "\n",
    "\n",
    "\"\"\"\n",
    "DON'T MODIFY ANYTHING IN THIS CELL THAT IS BELOW THIS LINE\n",
    "\"\"\"\n",
    "tests.test_flatten(flatten)"
   ]
  },
  {
   "cell_type": "markdown",
   "metadata": {
    "deletable": true,
    "editable": true
   },
   "source": [
    "### Fully-Connected Layer\n",
    "Implement the `fully_conn` function to apply a fully connected layer to `x_tensor` with the shape (*Batch Size*, *num_outputs*). Shortcut option: you can use classes from the [TensorFlow Layers](https://www.tensorflow.org/api_docs/python/tf/layers) or [TensorFlow Layers (contrib)](https://www.tensorflow.org/api_guides/python/contrib.layers) packages for this layer. For more of a challenge, only use other TensorFlow packages."
   ]
  },
  {
   "cell_type": "code",
   "execution_count": 14,
   "metadata": {
    "collapsed": false,
    "deletable": true,
    "editable": true
   },
   "outputs": [
    {
     "name": "stdout",
     "output_type": "stream",
     "text": [
      "Tests Passed\n"
     ]
    }
   ],
   "source": [
    "def fully_conn(x_tensor, num_outputs):\n",
    "    \"\"\"\n",
    "    Apply a fully connected layer to x_tensor using weight and bias\n",
    "    : x_tensor: A 2-D tensor where the first dimension is batch size.\n",
    "    : num_outputs: The number of output that the new tensor should be.\n",
    "    : return: A 2-D tensor where the second dimension is num_outputs.\n",
    "    \"\"\"\n",
    "    # TODO: Implement Function\n",
    "    return tf.contrib.layers.fully_connected(x_tensor,num_outputs)\n",
    "\n",
    "\n",
    "\"\"\"\n",
    "DON'T MODIFY ANYTHING IN THIS CELL THAT IS BELOW THIS LINE\n",
    "\"\"\"\n",
    "tests.test_fully_conn(fully_conn)"
   ]
  },
  {
   "cell_type": "markdown",
   "metadata": {
    "deletable": true,
    "editable": true
   },
   "source": [
    "### Output Layer\n",
    "Implement the `output` function to apply a fully connected layer to `x_tensor` with the shape (*Batch Size*, *num_outputs*). Shortcut option: you can use classes from the [TensorFlow Layers](https://www.tensorflow.org/api_docs/python/tf/layers) or [TensorFlow Layers (contrib)](https://www.tensorflow.org/api_guides/python/contrib.layers) packages for this layer. For more of a challenge, only use other TensorFlow packages.\n",
    "\n",
    "**Note:** Activation, softmax, or cross entropy should **not** be applied to this."
   ]
  },
  {
   "cell_type": "code",
   "execution_count": 15,
   "metadata": {
    "collapsed": false,
    "deletable": true,
    "editable": true
   },
   "outputs": [
    {
     "name": "stdout",
     "output_type": "stream",
     "text": [
      "Tests Passed\n"
     ]
    }
   ],
   "source": [
    "def output(x_tensor, num_outputs):\n",
    "    \"\"\"\n",
    "    Apply a output layer to x_tensor using weight and bias\n",
    "    : x_tensor: A 2-D tensor where the first dimension is batch size.\n",
    "    : num_outputs: The number of output that the new tensor should be.\n",
    "    : return: A 2-D tensor where the second dimension is num_outputs.\n",
    "    \"\"\"\n",
    "    # TODO: Implement Function\n",
    "    return tf.contrib.layers.fully_connected(x_tensor,num_outputs)\n",
    "\n",
    "\n",
    "\"\"\"\n",
    "DON'T MODIFY ANYTHING IN THIS CELL THAT IS BELOW THIS LINE\n",
    "\"\"\"\n",
    "tests.test_output(output)"
   ]
  },
  {
   "cell_type": "markdown",
   "metadata": {
    "deletable": true,
    "editable": true
   },
   "source": [
    "### Create Convolutional Model\n",
    "Implement the function `conv_net` to create a convolutional neural network model. The function takes in a batch of images, `x`, and outputs logits.  Use the layers you created above to create this model:\n",
    "\n",
    "* Apply 1, 2, or 3 Convolution and Max Pool layers\n",
    "* Apply a Flatten Layer\n",
    "* Apply 1, 2, or 3 Fully Connected Layers\n",
    "* Apply an Output Layer\n",
    "* Return the output\n",
    "* Apply [TensorFlow's Dropout](https://www.tensorflow.org/api_docs/python/tf/nn/dropout) to one or more layers in the model using `keep_prob`. "
   ]
  },
  {
   "cell_type": "code",
   "execution_count": 348,
   "metadata": {
    "collapsed": false,
    "deletable": true,
    "editable": true
   },
   "outputs": [
    {
     "name": "stdout",
     "output_type": "stream",
     "text": [
      "Neural Network Built!\n"
     ]
    }
   ],
   "source": [
    "def conv_net(x, keep_prob):\n",
    "    \"\"\"\n",
    "    Create a convolutional neural network model\n",
    "    : x: Placeholder tensor that holds image data.\n",
    "    : keep_prob: Placeholder tensor that hold dropout keep probability.\n",
    "    : return: Tensor that represents logits\n",
    "    \"\"\"\n",
    "    #conv_1_outputs = 4\n",
    "    #conv_2_outputs = 8\n",
    "    #conv_3_outputs = 16\n",
    "    #conv_4_outputs = 16\n",
    "    #conv_ksize = (32,32)\n",
    "    #conv_strides = (2,2)\n",
    "    #pool_ksize = (16,16)\n",
    "    #pool_strides = (2,2)\n",
    "    \n",
    "    conv = conv2d_maxpool(x, 16, (4,4), (1,1), (2,2), (1,1))\n",
    "    conv = conv2d_maxpool(conv, 32, (8,8), (2,2), (2,2), (2,2))\n",
    "    conv = conv2d_maxpool(conv, 64, (16,16), (4,4), (4,4), (2,2))\n",
    "    \n",
    "    # TODO: Apply a Flatten Layer\n",
    "    # Function Definition from Above:\n",
    "    conv_flatten = flatten(conv)\n",
    "    \n",
    "\n",
    "    # TODO: Apply 1, 2, or 3 Fully Connected Layers\n",
    "    #    Play around with different number of outputs\n",
    "    # Function Definition from Above:\n",
    "    conv_fully_conn = fully_conn(conv_flatten, 10)\n",
    "    conv_fully_conn_dropout = tf.nn.dropout(conv_fully_conn, keep_prob)\n",
    "    \n",
    "    # TODO: Apply an Output Layer\n",
    "    #    Set this to the number of classes\n",
    "    # Function Definition from Above:\n",
    "    conv_output = output(conv_fully_conn_dropout, 10)\n",
    "    \n",
    "    \n",
    "    # TODO: return output\n",
    "    return conv_output\n",
    "\n",
    "\n",
    "\"\"\"\n",
    "DON'T MODIFY ANYTHING IN THIS CELL THAT IS BELOW THIS LINE\n",
    "\"\"\"\n",
    "\n",
    "##############################\n",
    "## Build the Neural Network ##\n",
    "##############################\n",
    "\n",
    "# Remove previous weights, bias, inputs, etc..\n",
    "tf.reset_default_graph()\n",
    "\n",
    "# Inputs\n",
    "x = neural_net_image_input((32, 32, 3))\n",
    "y = neural_net_label_input(10)\n",
    "keep_prob = neural_net_keep_prob_input()\n",
    "\n",
    "# Model\n",
    "logits = conv_net(x, keep_prob)\n",
    "\n",
    "# Name logits Tensor, so that is can be loaded from disk after training\n",
    "logits = tf.identity(logits, name='logits')\n",
    "\n",
    "# Loss and Optimizer\n",
    "cost = tf.reduce_mean(tf.nn.softmax_cross_entropy_with_logits(logits=logits, labels=y))\n",
    "optimizer = tf.train.AdamOptimizer().minimize(cost)\n",
    "\n",
    "# Accuracy\n",
    "correct_pred = tf.equal(tf.argmax(logits, 1), tf.argmax(y, 1))\n",
    "accuracy = tf.reduce_mean(tf.cast(correct_pred, tf.float32), name='accuracy')\n",
    "\n",
    "tests.test_conv_net(conv_net)"
   ]
  },
  {
   "cell_type": "markdown",
   "metadata": {
    "deletable": true,
    "editable": true
   },
   "source": [
    "## Train the Neural Network\n",
    "### Single Optimization\n",
    "Implement the function `train_neural_network` to do a single optimization.  The optimization should use `optimizer` to optimize in `session` with a `feed_dict` of the following:\n",
    "* `x` for image input\n",
    "* `y` for labels\n",
    "* `keep_prob` for keep probability for dropout\n",
    "\n",
    "This function will be called for each batch, so `tf.global_variables_initializer()` has already been called.\n",
    "\n",
    "Note: Nothing needs to be returned. This function is only optimizing the neural network."
   ]
  },
  {
   "cell_type": "code",
   "execution_count": 349,
   "metadata": {
    "collapsed": false,
    "deletable": true,
    "editable": true
   },
   "outputs": [
    {
     "name": "stdout",
     "output_type": "stream",
     "text": [
      "Tests Passed\n"
     ]
    }
   ],
   "source": [
    "def train_neural_network(session, optimizer, keep_probability, feature_batch, label_batch):\n",
    "    \"\"\"\n",
    "    Optimize the session on a batch of images and labels\n",
    "    : session: Current TensorFlow session\n",
    "    : optimizer: TensorFlow optimizer function\n",
    "    : keep_probability: keep probability\n",
    "    : feature_batch: Batch of Numpy image data\n",
    "    : label_batch: Batch of Numpy label data\n",
    "    \"\"\"\n",
    "    # TODO: Implement Function\n",
    "    session.run(optimizer,feed_dict={x:feature_batch, y:label_batch, keep_prob:keep_probability})\n",
    "\n",
    "\"\"\"\n",
    "DON'T MODIFY ANYTHING IN THIS CELL THAT IS BELOW THIS LINE\n",
    "\"\"\"\n",
    "tests.test_train_nn(train_neural_network)"
   ]
  },
  {
   "cell_type": "markdown",
   "metadata": {
    "deletable": true,
    "editable": true
   },
   "source": [
    "### Show Stats\n",
    "Implement the function `print_stats` to print loss and validation accuracy.  Use the global variables `valid_features` and `valid_labels` to calculate validation accuracy.  Use a keep probability of `1.0` to calculate the loss and validation accuracy."
   ]
  },
  {
   "cell_type": "code",
   "execution_count": 350,
   "metadata": {
    "collapsed": false,
    "deletable": true,
    "editable": true
   },
   "outputs": [],
   "source": [
    "def print_stats(session, feature_batch, label_batch, cost, accuracy):\n",
    "    \"\"\"\n",
    "    Print information about loss and validation accuracy\n",
    "    : session: Current TensorFlow session\n",
    "    : feature_batch: Batch of Numpy image data\n",
    "    : label_batch: Batch of Numpy label data\n",
    "    : cost: TensorFlow cost function\n",
    "    : accuracy: TensorFlow accuracy function\n",
    "    \"\"\"\n",
    "    # TODO: Implement Function\n",
    "    loss = session.run(cost, feed_dict={x: feature_batch, y: label_batch, keep_prob: 1.})\n",
    "    valid_accuracy = session.run(accuracy, feed_dict={x: valid_features, y: valid_labels, keep_prob: 1.})\n",
    "    print('Loss: {:>10.4f} Validation Accuracy: {:.6f}'.format(loss, valid_accuracy))"
   ]
  },
  {
   "cell_type": "markdown",
   "metadata": {
    "deletable": true,
    "editable": true
   },
   "source": [
    "### Hyperparameters\n",
    "Tune the following parameters:\n",
    "* Set `epochs` to the number of iterations until the network stops learning or start overfitting\n",
    "* Set `batch_size` to the highest number that your machine has memory for.  Most people set them to common sizes of memory:\n",
    " * 64\n",
    " * 128\n",
    " * 256\n",
    " * ...\n",
    "* Set `keep_probability` to the probability of keeping a node using dropout"
   ]
  },
  {
   "cell_type": "code",
   "execution_count": 351,
   "metadata": {
    "collapsed": true,
    "deletable": true,
    "editable": true
   },
   "outputs": [],
   "source": [
    "# TODO: Tune Parameters\n",
    "epochs = 100\n",
    "batch_size = 64\n",
    "keep_probability = 0.5"
   ]
  },
  {
   "cell_type": "markdown",
   "metadata": {
    "deletable": true,
    "editable": true
   },
   "source": [
    "### Train on a Single CIFAR-10 Batch\n",
    "Instead of training the neural network on all the CIFAR-10 batches of data, let's use a single batch. This should save time while you iterate on the model to get a better accuracy.  Once the final validation accuracy is 50% or greater, run the model on all the data in the next section."
   ]
  },
  {
   "cell_type": "code",
   "execution_count": 352,
   "metadata": {
    "collapsed": false,
    "deletable": true,
    "editable": true
   },
   "outputs": [
    {
     "name": "stdout",
     "output_type": "stream",
     "text": [
      "Checking the Training on a Single Batch...\n",
      "Epoch  1, CIFAR-10 Batch 1:  Loss:     2.3030 Validation Accuracy: 0.096800\n",
      "Epoch  2, CIFAR-10 Batch 1:  Loss:     2.3032 Validation Accuracy: 0.096800\n",
      "Epoch  3, CIFAR-10 Batch 1:  Loss:     2.3033 Validation Accuracy: 0.096800\n",
      "Epoch  4, CIFAR-10 Batch 1:  Loss:     2.3034 Validation Accuracy: 0.096800\n",
      "Epoch  5, CIFAR-10 Batch 1:  Loss:     2.3034 Validation Accuracy: 0.096800\n"
     ]
    },
    {
     "ename": "KeyboardInterrupt",
     "evalue": "",
     "output_type": "error",
     "traceback": [
      "\u001b[0;31m---------------------------------------------------------------------------\u001b[0m",
      "\u001b[0;31mKeyboardInterrupt\u001b[0m                         Traceback (most recent call last)",
      "\u001b[0;32m<ipython-input-352-0ebd1bbc35ad>\u001b[0m in \u001b[0;36m<module>\u001b[0;34m()\u001b[0m\n\u001b[1;32m     11\u001b[0m         \u001b[0mbatch_i\u001b[0m \u001b[0;34m=\u001b[0m \u001b[0;36m1\u001b[0m\u001b[0;34m\u001b[0m\u001b[0m\n\u001b[1;32m     12\u001b[0m         \u001b[0;32mfor\u001b[0m \u001b[0mbatch_features\u001b[0m\u001b[0;34m,\u001b[0m \u001b[0mbatch_labels\u001b[0m \u001b[0;32min\u001b[0m \u001b[0mhelper\u001b[0m\u001b[0;34m.\u001b[0m\u001b[0mload_preprocess_training_batch\u001b[0m\u001b[0;34m(\u001b[0m\u001b[0mbatch_i\u001b[0m\u001b[0;34m,\u001b[0m \u001b[0mbatch_size\u001b[0m\u001b[0;34m)\u001b[0m\u001b[0;34m:\u001b[0m\u001b[0;34m\u001b[0m\u001b[0m\n\u001b[0;32m---> 13\u001b[0;31m             \u001b[0mtrain_neural_network\u001b[0m\u001b[0;34m(\u001b[0m\u001b[0msess\u001b[0m\u001b[0;34m,\u001b[0m \u001b[0moptimizer\u001b[0m\u001b[0;34m,\u001b[0m \u001b[0mkeep_probability\u001b[0m\u001b[0;34m,\u001b[0m \u001b[0mbatch_features\u001b[0m\u001b[0;34m,\u001b[0m \u001b[0mbatch_labels\u001b[0m\u001b[0;34m)\u001b[0m\u001b[0;34m\u001b[0m\u001b[0m\n\u001b[0m\u001b[1;32m     14\u001b[0m         \u001b[0mprint\u001b[0m\u001b[0;34m(\u001b[0m\u001b[0;34m'Epoch {:>2}, CIFAR-10 Batch {}:  '\u001b[0m\u001b[0;34m.\u001b[0m\u001b[0mformat\u001b[0m\u001b[0;34m(\u001b[0m\u001b[0mepoch\u001b[0m \u001b[0;34m+\u001b[0m \u001b[0;36m1\u001b[0m\u001b[0;34m,\u001b[0m \u001b[0mbatch_i\u001b[0m\u001b[0;34m)\u001b[0m\u001b[0;34m,\u001b[0m \u001b[0mend\u001b[0m\u001b[0;34m=\u001b[0m\u001b[0;34m''\u001b[0m\u001b[0;34m)\u001b[0m\u001b[0;34m\u001b[0m\u001b[0m\n\u001b[1;32m     15\u001b[0m         \u001b[0mprint_stats\u001b[0m\u001b[0;34m(\u001b[0m\u001b[0msess\u001b[0m\u001b[0;34m,\u001b[0m \u001b[0mbatch_features\u001b[0m\u001b[0;34m,\u001b[0m \u001b[0mbatch_labels\u001b[0m\u001b[0;34m,\u001b[0m \u001b[0mcost\u001b[0m\u001b[0;34m,\u001b[0m \u001b[0maccuracy\u001b[0m\u001b[0;34m)\u001b[0m\u001b[0;34m\u001b[0m\u001b[0m\n",
      "\u001b[0;32m<ipython-input-349-cf3a949f6912>\u001b[0m in \u001b[0;36mtrain_neural_network\u001b[0;34m(session, optimizer, keep_probability, feature_batch, label_batch)\u001b[0m\n\u001b[1;32m      9\u001b[0m     \"\"\"\n\u001b[1;32m     10\u001b[0m     \u001b[0;31m# TODO: Implement Function\u001b[0m\u001b[0;34m\u001b[0m\u001b[0;34m\u001b[0m\u001b[0m\n\u001b[0;32m---> 11\u001b[0;31m     \u001b[0msession\u001b[0m\u001b[0;34m.\u001b[0m\u001b[0mrun\u001b[0m\u001b[0;34m(\u001b[0m\u001b[0moptimizer\u001b[0m\u001b[0;34m,\u001b[0m\u001b[0mfeed_dict\u001b[0m\u001b[0;34m=\u001b[0m\u001b[0;34m{\u001b[0m\u001b[0mx\u001b[0m\u001b[0;34m:\u001b[0m\u001b[0mfeature_batch\u001b[0m\u001b[0;34m,\u001b[0m \u001b[0my\u001b[0m\u001b[0;34m:\u001b[0m\u001b[0mlabel_batch\u001b[0m\u001b[0;34m,\u001b[0m \u001b[0mkeep_prob\u001b[0m\u001b[0;34m:\u001b[0m\u001b[0mkeep_probability\u001b[0m\u001b[0;34m}\u001b[0m\u001b[0;34m)\u001b[0m\u001b[0;34m\u001b[0m\u001b[0m\n\u001b[0m\u001b[1;32m     12\u001b[0m \u001b[0;34m\u001b[0m\u001b[0m\n\u001b[1;32m     13\u001b[0m \"\"\"\n",
      "\u001b[0;32m/usr/local/lib/python3.5/site-packages/tensorflow/python/client/session.py\u001b[0m in \u001b[0;36mrun\u001b[0;34m(self, fetches, feed_dict, options, run_metadata)\u001b[0m\n\u001b[1;32m    764\u001b[0m     \u001b[0;32mtry\u001b[0m\u001b[0;34m:\u001b[0m\u001b[0;34m\u001b[0m\u001b[0m\n\u001b[1;32m    765\u001b[0m       result = self._run(None, fetches, feed_dict, options_ptr,\n\u001b[0;32m--> 766\u001b[0;31m                          run_metadata_ptr)\n\u001b[0m\u001b[1;32m    767\u001b[0m       \u001b[0;32mif\u001b[0m \u001b[0mrun_metadata\u001b[0m\u001b[0;34m:\u001b[0m\u001b[0;34m\u001b[0m\u001b[0m\n\u001b[1;32m    768\u001b[0m         \u001b[0mproto_data\u001b[0m \u001b[0;34m=\u001b[0m \u001b[0mtf_session\u001b[0m\u001b[0;34m.\u001b[0m\u001b[0mTF_GetBuffer\u001b[0m\u001b[0;34m(\u001b[0m\u001b[0mrun_metadata_ptr\u001b[0m\u001b[0;34m)\u001b[0m\u001b[0;34m\u001b[0m\u001b[0m\n",
      "\u001b[0;32m/usr/local/lib/python3.5/site-packages/tensorflow/python/client/session.py\u001b[0m in \u001b[0;36m_run\u001b[0;34m(self, handle, fetches, feed_dict, options, run_metadata)\u001b[0m\n\u001b[1;32m    962\u001b[0m     \u001b[0;32mif\u001b[0m \u001b[0mfinal_fetches\u001b[0m \u001b[0;32mor\u001b[0m \u001b[0mfinal_targets\u001b[0m\u001b[0;34m:\u001b[0m\u001b[0;34m\u001b[0m\u001b[0m\n\u001b[1;32m    963\u001b[0m       results = self._do_run(handle, final_targets, final_fetches,\n\u001b[0;32m--> 964\u001b[0;31m                              feed_dict_string, options, run_metadata)\n\u001b[0m\u001b[1;32m    965\u001b[0m     \u001b[0;32melse\u001b[0m\u001b[0;34m:\u001b[0m\u001b[0;34m\u001b[0m\u001b[0m\n\u001b[1;32m    966\u001b[0m       \u001b[0mresults\u001b[0m \u001b[0;34m=\u001b[0m \u001b[0;34m[\u001b[0m\u001b[0;34m]\u001b[0m\u001b[0;34m\u001b[0m\u001b[0m\n",
      "\u001b[0;32m/usr/local/lib/python3.5/site-packages/tensorflow/python/client/session.py\u001b[0m in \u001b[0;36m_do_run\u001b[0;34m(self, handle, target_list, fetch_list, feed_dict, options, run_metadata)\u001b[0m\n\u001b[1;32m   1012\u001b[0m     \u001b[0;32mif\u001b[0m \u001b[0mhandle\u001b[0m \u001b[0;32mis\u001b[0m \u001b[0;32mNone\u001b[0m\u001b[0;34m:\u001b[0m\u001b[0;34m\u001b[0m\u001b[0m\n\u001b[1;32m   1013\u001b[0m       return self._do_call(_run_fn, self._session, feed_dict, fetch_list,\n\u001b[0;32m-> 1014\u001b[0;31m                            target_list, options, run_metadata)\n\u001b[0m\u001b[1;32m   1015\u001b[0m     \u001b[0;32melse\u001b[0m\u001b[0;34m:\u001b[0m\u001b[0;34m\u001b[0m\u001b[0m\n\u001b[1;32m   1016\u001b[0m       return self._do_call(_prun_fn, self._session, handle, feed_dict,\n",
      "\u001b[0;32m/usr/local/lib/python3.5/site-packages/tensorflow/python/client/session.py\u001b[0m in \u001b[0;36m_do_call\u001b[0;34m(self, fn, *args)\u001b[0m\n\u001b[1;32m   1019\u001b[0m   \u001b[0;32mdef\u001b[0m \u001b[0m_do_call\u001b[0m\u001b[0;34m(\u001b[0m\u001b[0mself\u001b[0m\u001b[0;34m,\u001b[0m \u001b[0mfn\u001b[0m\u001b[0;34m,\u001b[0m \u001b[0;34m*\u001b[0m\u001b[0margs\u001b[0m\u001b[0;34m)\u001b[0m\u001b[0;34m:\u001b[0m\u001b[0;34m\u001b[0m\u001b[0m\n\u001b[1;32m   1020\u001b[0m     \u001b[0;32mtry\u001b[0m\u001b[0;34m:\u001b[0m\u001b[0;34m\u001b[0m\u001b[0m\n\u001b[0;32m-> 1021\u001b[0;31m       \u001b[0;32mreturn\u001b[0m \u001b[0mfn\u001b[0m\u001b[0;34m(\u001b[0m\u001b[0;34m*\u001b[0m\u001b[0margs\u001b[0m\u001b[0;34m)\u001b[0m\u001b[0;34m\u001b[0m\u001b[0m\n\u001b[0m\u001b[1;32m   1022\u001b[0m     \u001b[0;32mexcept\u001b[0m \u001b[0merrors\u001b[0m\u001b[0;34m.\u001b[0m\u001b[0mOpError\u001b[0m \u001b[0;32mas\u001b[0m \u001b[0me\u001b[0m\u001b[0;34m:\u001b[0m\u001b[0;34m\u001b[0m\u001b[0m\n\u001b[1;32m   1023\u001b[0m       \u001b[0mmessage\u001b[0m \u001b[0;34m=\u001b[0m \u001b[0mcompat\u001b[0m\u001b[0;34m.\u001b[0m\u001b[0mas_text\u001b[0m\u001b[0;34m(\u001b[0m\u001b[0me\u001b[0m\u001b[0;34m.\u001b[0m\u001b[0mmessage\u001b[0m\u001b[0;34m)\u001b[0m\u001b[0;34m\u001b[0m\u001b[0m\n",
      "\u001b[0;32m/usr/local/lib/python3.5/site-packages/tensorflow/python/client/session.py\u001b[0m in \u001b[0;36m_run_fn\u001b[0;34m(session, feed_dict, fetch_list, target_list, options, run_metadata)\u001b[0m\n\u001b[1;32m   1001\u001b[0m         return tf_session.TF_Run(session, options,\n\u001b[1;32m   1002\u001b[0m                                  \u001b[0mfeed_dict\u001b[0m\u001b[0;34m,\u001b[0m \u001b[0mfetch_list\u001b[0m\u001b[0;34m,\u001b[0m \u001b[0mtarget_list\u001b[0m\u001b[0;34m,\u001b[0m\u001b[0;34m\u001b[0m\u001b[0m\n\u001b[0;32m-> 1003\u001b[0;31m                                  status, run_metadata)\n\u001b[0m\u001b[1;32m   1004\u001b[0m \u001b[0;34m\u001b[0m\u001b[0m\n\u001b[1;32m   1005\u001b[0m     \u001b[0;32mdef\u001b[0m \u001b[0m_prun_fn\u001b[0m\u001b[0;34m(\u001b[0m\u001b[0msession\u001b[0m\u001b[0;34m,\u001b[0m \u001b[0mhandle\u001b[0m\u001b[0;34m,\u001b[0m \u001b[0mfeed_dict\u001b[0m\u001b[0;34m,\u001b[0m \u001b[0mfetch_list\u001b[0m\u001b[0;34m)\u001b[0m\u001b[0;34m:\u001b[0m\u001b[0;34m\u001b[0m\u001b[0m\n",
      "\u001b[0;31mKeyboardInterrupt\u001b[0m: "
     ]
    }
   ],
   "source": [
    "\"\"\"\n",
    "DON'T MODIFY ANYTHING IN THIS CELL\n",
    "\"\"\"\n",
    "print('Checking the Training on a Single Batch...')\n",
    "with tf.Session() as sess:\n",
    "    # Initializing the variables\n",
    "    sess.run(tf.global_variables_initializer())\n",
    "    \n",
    "    # Training cycle\n",
    "    for epoch in range(epochs):\n",
    "        batch_i = 1\n",
    "        for batch_features, batch_labels in helper.load_preprocess_training_batch(batch_i, batch_size):\n",
    "            train_neural_network(sess, optimizer, keep_probability, batch_features, batch_labels)\n",
    "        print('Epoch {:>2}, CIFAR-10 Batch {}:  '.format(epoch + 1, batch_i), end='')\n",
    "        print_stats(sess, batch_features, batch_labels, cost, accuracy)"
   ]
  },
  {
   "cell_type": "markdown",
   "metadata": {
    "deletable": true,
    "editable": true
   },
   "source": [
    "### Fully Train the Model\n",
    "Now that you got a good accuracy with a single CIFAR-10 batch, try it with all five batches."
   ]
  },
  {
   "cell_type": "code",
   "execution_count": 353,
   "metadata": {
    "collapsed": false,
    "deletable": true,
    "editable": true
   },
   "outputs": [
    {
     "name": "stdout",
     "output_type": "stream",
     "text": [
      "Training...\n",
      "Epoch  1, CIFAR-10 Batch 1:  Loss:     2.2969 Validation Accuracy: 0.074800\n",
      "Epoch  1, CIFAR-10 Batch 2:  Loss:     2.2282 Validation Accuracy: 0.150800\n",
      "Epoch  1, CIFAR-10 Batch 3:  Loss:     2.1958 Validation Accuracy: 0.177000\n",
      "Epoch  1, CIFAR-10 Batch 4:  Loss:     2.2107 Validation Accuracy: 0.169800\n",
      "Epoch  1, CIFAR-10 Batch 5:  Loss:     2.1709 Validation Accuracy: 0.174000\n",
      "Epoch  2, CIFAR-10 Batch 1:  Loss:     2.1392 Validation Accuracy: 0.175400\n",
      "Epoch  2, CIFAR-10 Batch 2:  Loss:     2.0919 Validation Accuracy: 0.240600\n",
      "Epoch  2, CIFAR-10 Batch 3:  Loss:     1.9682 Validation Accuracy: 0.261200\n",
      "Epoch  2, CIFAR-10 Batch 4:  Loss:     2.0593 Validation Accuracy: 0.259000\n",
      "Epoch  2, CIFAR-10 Batch 5:  Loss:     1.9197 Validation Accuracy: 0.245200\n",
      "Epoch  3, CIFAR-10 Batch 1:  Loss:     2.0067 Validation Accuracy: 0.252200\n",
      "Epoch  3, CIFAR-10 Batch 2:  Loss:     1.9660 Validation Accuracy: 0.249600\n",
      "Epoch  3, CIFAR-10 Batch 3:  Loss:     1.8640 Validation Accuracy: 0.276400\n",
      "Epoch  3, CIFAR-10 Batch 4:  Loss:     1.9886 Validation Accuracy: 0.290000\n",
      "Epoch  3, CIFAR-10 Batch 5:  Loss:     1.7987 Validation Accuracy: 0.277600\n",
      "Epoch  4, CIFAR-10 Batch 1:  Loss:     2.0082 Validation Accuracy: 0.300200\n",
      "Epoch  4, CIFAR-10 Batch 2:  Loss:     1.9168 Validation Accuracy: 0.313800\n",
      "Epoch  4, CIFAR-10 Batch 3:  Loss:     1.7393 Validation Accuracy: 0.388000\n",
      "Epoch  4, CIFAR-10 Batch 4:  Loss:     1.7916 Validation Accuracy: 0.399200\n",
      "Epoch  4, CIFAR-10 Batch 5:  Loss:     1.5634 Validation Accuracy: 0.419600\n",
      "Epoch  5, CIFAR-10 Batch 1:  Loss:     1.8592 Validation Accuracy: 0.413600\n",
      "Epoch  5, CIFAR-10 Batch 2:  Loss:     1.8148 Validation Accuracy: 0.438800\n",
      "Epoch  5, CIFAR-10 Batch 3:  Loss:     1.6851 Validation Accuracy: 0.439800\n",
      "Epoch  5, CIFAR-10 Batch 4:  Loss:     1.7922 Validation Accuracy: 0.448600\n",
      "Epoch  5, CIFAR-10 Batch 5:  Loss:     1.4607 Validation Accuracy: 0.461800\n",
      "Epoch  6, CIFAR-10 Batch 1:  Loss:     1.6361 Validation Accuracy: 0.428200\n",
      "Epoch  6, CIFAR-10 Batch 2:  Loss:     1.6888 Validation Accuracy: 0.466200\n",
      "Epoch  6, CIFAR-10 Batch 3:  Loss:     1.6250 Validation Accuracy: 0.442200\n",
      "Epoch  6, CIFAR-10 Batch 4:  Loss:     1.6786 Validation Accuracy: 0.453800\n",
      "Epoch  6, CIFAR-10 Batch 5:  Loss:     1.2076 Validation Accuracy: 0.486200\n",
      "Epoch  7, CIFAR-10 Batch 1:  Loss:     1.5737 Validation Accuracy: 0.482400\n",
      "Epoch  7, CIFAR-10 Batch 2:  Loss:     1.6301 Validation Accuracy: 0.498800\n",
      "Epoch  7, CIFAR-10 Batch 3:  Loss:     1.4997 Validation Accuracy: 0.462000\n",
      "Epoch  7, CIFAR-10 Batch 4:  Loss:     1.4507 Validation Accuracy: 0.465800\n",
      "Epoch  7, CIFAR-10 Batch 5:  Loss:     1.2324 Validation Accuracy: 0.492800\n",
      "Epoch  8, CIFAR-10 Batch 1:  Loss:     1.4602 Validation Accuracy: 0.500600\n",
      "Epoch  8, CIFAR-10 Batch 2:  Loss:     1.4663 Validation Accuracy: 0.523600\n",
      "Epoch  8, CIFAR-10 Batch 3:  Loss:     1.3669 Validation Accuracy: 0.475800\n",
      "Epoch  8, CIFAR-10 Batch 4:  Loss:     1.3837 Validation Accuracy: 0.496400\n",
      "Epoch  8, CIFAR-10 Batch 5:  Loss:     1.1006 Validation Accuracy: 0.515400\n",
      "Epoch  9, CIFAR-10 Batch 1:  Loss:     1.2891 Validation Accuracy: 0.508600\n",
      "Epoch  9, CIFAR-10 Batch 2:  Loss:     1.5142 Validation Accuracy: 0.521400\n",
      "Epoch  9, CIFAR-10 Batch 3:  Loss:     1.2930 Validation Accuracy: 0.522800\n",
      "Epoch  9, CIFAR-10 Batch 4:  Loss:     1.2736 Validation Accuracy: 0.534200\n",
      "Epoch  9, CIFAR-10 Batch 5:  Loss:     0.9823 Validation Accuracy: 0.547000\n",
      "Epoch 10, CIFAR-10 Batch 1:  Loss:     1.0494 Validation Accuracy: 0.556000\n",
      "Epoch 10, CIFAR-10 Batch 2:  Loss:     1.3750 Validation Accuracy: 0.526800\n",
      "Epoch 10, CIFAR-10 Batch 3:  Loss:     1.1710 Validation Accuracy: 0.561400\n",
      "Epoch 10, CIFAR-10 Batch 4:  Loss:     1.1852 Validation Accuracy: 0.567200\n",
      "Epoch 10, CIFAR-10 Batch 5:  Loss:     0.9451 Validation Accuracy: 0.558400\n",
      "Epoch 11, CIFAR-10 Batch 1:  Loss:     0.9223 Validation Accuracy: 0.561600\n",
      "Epoch 11, CIFAR-10 Batch 2:  Loss:     1.2557 Validation Accuracy: 0.562400\n",
      "Epoch 11, CIFAR-10 Batch 3:  Loss:     1.1310 Validation Accuracy: 0.564400\n",
      "Epoch 11, CIFAR-10 Batch 4:  Loss:     1.1499 Validation Accuracy: 0.569600\n",
      "Epoch 11, CIFAR-10 Batch 5:  Loss:     0.8181 Validation Accuracy: 0.585000\n",
      "Epoch 12, CIFAR-10 Batch 1:  Loss:     0.9026 Validation Accuracy: 0.584000\n",
      "Epoch 12, CIFAR-10 Batch 2:  Loss:     1.1809 Validation Accuracy: 0.561400\n",
      "Epoch 12, CIFAR-10 Batch 3:  Loss:     1.0304 Validation Accuracy: 0.594600\n",
      "Epoch 12, CIFAR-10 Batch 4:  Loss:     1.0424 Validation Accuracy: 0.576600\n",
      "Epoch 12, CIFAR-10 Batch 5:  Loss:     0.8673 Validation Accuracy: 0.570600\n",
      "Epoch 13, CIFAR-10 Batch 1:  Loss:     0.8781 Validation Accuracy: 0.578600\n",
      "Epoch 13, CIFAR-10 Batch 2:  Loss:     1.1374 Validation Accuracy: 0.562800\n",
      "Epoch 13, CIFAR-10 Batch 3:  Loss:     1.0358 Validation Accuracy: 0.595600\n",
      "Epoch 13, CIFAR-10 Batch 4:  Loss:     0.9744 Validation Accuracy: 0.585000\n",
      "Epoch 13, CIFAR-10 Batch 5:  Loss:     0.7492 Validation Accuracy: 0.578400\n",
      "Epoch 14, CIFAR-10 Batch 1:  Loss:     0.8114 Validation Accuracy: 0.590600\n",
      "Epoch 14, CIFAR-10 Batch 2:  Loss:     1.1365 Validation Accuracy: 0.579600\n",
      "Epoch 14, CIFAR-10 Batch 3:  Loss:     0.9814 Validation Accuracy: 0.601200\n",
      "Epoch 14, CIFAR-10 Batch 4:  Loss:     0.9338 Validation Accuracy: 0.578600\n",
      "Epoch 14, CIFAR-10 Batch 5:  Loss:     0.7035 Validation Accuracy: 0.604600\n",
      "Epoch 15, CIFAR-10 Batch 1:  Loss:     0.8020 Validation Accuracy: 0.587200\n",
      "Epoch 15, CIFAR-10 Batch 2:  Loss:     1.0862 Validation Accuracy: 0.581200\n",
      "Epoch 15, CIFAR-10 Batch 3:  Loss:     0.9364 Validation Accuracy: 0.601800\n",
      "Epoch 15, CIFAR-10 Batch 4:  Loss:     0.9328 Validation Accuracy: 0.588200\n",
      "Epoch 15, CIFAR-10 Batch 5:  Loss:     0.7425 Validation Accuracy: 0.571200\n",
      "Epoch 16, CIFAR-10 Batch 1:  Loss:     0.7643 Validation Accuracy: 0.589600\n",
      "Epoch 16, CIFAR-10 Batch 2:  Loss:     1.1216 Validation Accuracy: 0.592400\n",
      "Epoch 16, CIFAR-10 Batch 3:  Loss:     0.9611 Validation Accuracy: 0.603800\n",
      "Epoch 16, CIFAR-10 Batch 4:  Loss:     0.8959 Validation Accuracy: 0.589800\n",
      "Epoch 16, CIFAR-10 Batch 5:  Loss:     0.6752 Validation Accuracy: 0.576600\n",
      "Epoch 17, CIFAR-10 Batch 1:  Loss:     0.7204 Validation Accuracy: 0.600600\n",
      "Epoch 17, CIFAR-10 Batch 2:  Loss:     1.0860 Validation Accuracy: 0.605200\n",
      "Epoch 17, CIFAR-10 Batch 3:  Loss:     0.9353 Validation Accuracy: 0.594000\n",
      "Epoch 17, CIFAR-10 Batch 4:  Loss:     0.8515 Validation Accuracy: 0.608200\n",
      "Epoch 17, CIFAR-10 Batch 5:  Loss:     0.6863 Validation Accuracy: 0.576800\n",
      "Epoch 18, CIFAR-10 Batch 1:  Loss:     0.6588 Validation Accuracy: 0.601200\n",
      "Epoch 18, CIFAR-10 Batch 2:  Loss:     0.9433 Validation Accuracy: 0.604000\n",
      "Epoch 18, CIFAR-10 Batch 3:  Loss:     0.8628 Validation Accuracy: 0.619400\n",
      "Epoch 18, CIFAR-10 Batch 4:  Loss:     0.7627 Validation Accuracy: 0.606400\n",
      "Epoch 18, CIFAR-10 Batch 5:  Loss:     0.4972 Validation Accuracy: 0.608400\n",
      "Epoch 19, CIFAR-10 Batch 1:  Loss:     0.6616 Validation Accuracy: 0.603400\n",
      "Epoch 19, CIFAR-10 Batch 2:  Loss:     1.0505 Validation Accuracy: 0.583000\n",
      "Epoch 19, CIFAR-10 Batch 3:  Loss:     0.7538 Validation Accuracy: 0.613400\n",
      "Epoch 19, CIFAR-10 Batch 4:  Loss:     0.7871 Validation Accuracy: 0.616400\n",
      "Epoch 19, CIFAR-10 Batch 5:  Loss:     0.4750 Validation Accuracy: 0.617200\n",
      "Epoch 20, CIFAR-10 Batch 1:  Loss:     0.5941 Validation Accuracy: 0.603200\n",
      "Epoch 20, CIFAR-10 Batch 2:  Loss:     0.8742 Validation Accuracy: 0.587200\n",
      "Epoch 20, CIFAR-10 Batch 3:  Loss:     0.7921 Validation Accuracy: 0.609000\n",
      "Epoch 20, CIFAR-10 Batch 4:  Loss:     0.7387 Validation Accuracy: 0.614800\n",
      "Epoch 20, CIFAR-10 Batch 5:  Loss:     0.4721 Validation Accuracy: 0.599000\n",
      "Epoch 21, CIFAR-10 Batch 1:  Loss:     0.6122 Validation Accuracy: 0.617600\n",
      "Epoch 21, CIFAR-10 Batch 2:  Loss:     0.7273 Validation Accuracy: 0.603000\n",
      "Epoch 21, CIFAR-10 Batch 3:  Loss:     0.7650 Validation Accuracy: 0.606400\n",
      "Epoch 21, CIFAR-10 Batch 4:  Loss:     0.7222 Validation Accuracy: 0.608800\n",
      "Epoch 21, CIFAR-10 Batch 5:  Loss:     0.4043 Validation Accuracy: 0.621000\n",
      "Epoch 22, CIFAR-10 Batch 1:  Loss:     0.5524 Validation Accuracy: 0.626600\n",
      "Epoch 22, CIFAR-10 Batch 2:  Loss:     0.7678 Validation Accuracy: 0.609000\n",
      "Epoch 22, CIFAR-10 Batch 3:  Loss:     0.6603 Validation Accuracy: 0.614800\n",
      "Epoch 22, CIFAR-10 Batch 4:  Loss:     0.6756 Validation Accuracy: 0.615000\n",
      "Epoch 22, CIFAR-10 Batch 5:  Loss:     0.3971 Validation Accuracy: 0.627400\n",
      "Epoch 23, CIFAR-10 Batch 1:  Loss:     0.5136 Validation Accuracy: 0.619800\n",
      "Epoch 23, CIFAR-10 Batch 2:  Loss:     0.6818 Validation Accuracy: 0.605800\n",
      "Epoch 23, CIFAR-10 Batch 3:  Loss:     0.6144 Validation Accuracy: 0.623000\n",
      "Epoch 23, CIFAR-10 Batch 4:  Loss:     0.6443 Validation Accuracy: 0.601000\n",
      "Epoch 23, CIFAR-10 Batch 5:  Loss:     0.3960 Validation Accuracy: 0.621600\n",
      "Epoch 24, CIFAR-10 Batch 1:  Loss:     0.5593 Validation Accuracy: 0.618800\n",
      "Epoch 24, CIFAR-10 Batch 2:  Loss:     0.6430 Validation Accuracy: 0.623600\n",
      "Epoch 24, CIFAR-10 Batch 3:  Loss:     0.6020 Validation Accuracy: 0.617400\n",
      "Epoch 24, CIFAR-10 Batch 4:  Loss:     0.6279 Validation Accuracy: 0.611200\n",
      "Epoch 24, CIFAR-10 Batch 5:  Loss:     0.3676 Validation Accuracy: 0.614200\n",
      "Epoch 25, CIFAR-10 Batch 1:  Loss:     0.6075 Validation Accuracy: 0.622600\n",
      "Epoch 25, CIFAR-10 Batch 2:  Loss:     0.7510 Validation Accuracy: 0.609200\n",
      "Epoch 25, CIFAR-10 Batch 3:  Loss:     0.5204 Validation Accuracy: 0.619600\n",
      "Epoch 25, CIFAR-10 Batch 4:  Loss:     0.6827 Validation Accuracy: 0.617600\n",
      "Epoch 25, CIFAR-10 Batch 5:  Loss:     0.3576 Validation Accuracy: 0.624600\n",
      "Epoch 26, CIFAR-10 Batch 1:  Loss:     0.5724 Validation Accuracy: 0.617600\n",
      "Epoch 26, CIFAR-10 Batch 2:  Loss:     0.5545 Validation Accuracy: 0.621200\n",
      "Epoch 26, CIFAR-10 Batch 3:  Loss:     0.5403 Validation Accuracy: 0.620400\n",
      "Epoch 26, CIFAR-10 Batch 4:  Loss:     0.5777 Validation Accuracy: 0.624200\n",
      "Epoch 26, CIFAR-10 Batch 5:  Loss:     0.3857 Validation Accuracy: 0.621800\n",
      "Epoch 27, CIFAR-10 Batch 1:  Loss:     0.4900 Validation Accuracy: 0.633800\n",
      "Epoch 27, CIFAR-10 Batch 2:  Loss:     0.5685 Validation Accuracy: 0.617600\n",
      "Epoch 27, CIFAR-10 Batch 3:  Loss:     0.5107 Validation Accuracy: 0.632000\n",
      "Epoch 27, CIFAR-10 Batch 4:  Loss:     0.5871 Validation Accuracy: 0.616000\n",
      "Epoch 27, CIFAR-10 Batch 5:  Loss:     0.4021 Validation Accuracy: 0.616200\n",
      "Epoch 28, CIFAR-10 Batch 1:  Loss:     0.4928 Validation Accuracy: 0.627800\n",
      "Epoch 28, CIFAR-10 Batch 2:  Loss:     0.5354 Validation Accuracy: 0.619000\n",
      "Epoch 28, CIFAR-10 Batch 3:  Loss:     0.4677 Validation Accuracy: 0.621200\n",
      "Epoch 28, CIFAR-10 Batch 4:  Loss:     0.5636 Validation Accuracy: 0.626400\n",
      "Epoch 28, CIFAR-10 Batch 5:  Loss:     0.3698 Validation Accuracy: 0.617200\n",
      "Epoch 29, CIFAR-10 Batch 1:  Loss:     0.4581 Validation Accuracy: 0.626800\n",
      "Epoch 29, CIFAR-10 Batch 2:  Loss:     0.6023 Validation Accuracy: 0.595800\n",
      "Epoch 29, CIFAR-10 Batch 3:  Loss:     0.5244 Validation Accuracy: 0.627400\n",
      "Epoch 29, CIFAR-10 Batch 4:  Loss:     0.5942 Validation Accuracy: 0.624600\n",
      "Epoch 29, CIFAR-10 Batch 5:  Loss:     0.4054 Validation Accuracy: 0.615400\n",
      "Epoch 30, CIFAR-10 Batch 1:  Loss:     0.4713 Validation Accuracy: 0.614000\n",
      "Epoch 30, CIFAR-10 Batch 2:  Loss:     0.5265 Validation Accuracy: 0.609400\n",
      "Epoch 30, CIFAR-10 Batch 3:  Loss:     0.5016 Validation Accuracy: 0.608200\n",
      "Epoch 30, CIFAR-10 Batch 4:  Loss:     0.5781 Validation Accuracy: 0.633800\n",
      "Epoch 30, CIFAR-10 Batch 5:  Loss:     0.3763 Validation Accuracy: 0.621600\n",
      "Epoch 31, CIFAR-10 Batch 1:  Loss:     0.4637 Validation Accuracy: 0.631800\n",
      "Epoch 31, CIFAR-10 Batch 2:  Loss:     0.5376 Validation Accuracy: 0.614000\n",
      "Epoch 31, CIFAR-10 Batch 3:  Loss:     0.4526 Validation Accuracy: 0.631000\n",
      "Epoch 31, CIFAR-10 Batch 4:  Loss:     0.5802 Validation Accuracy: 0.631200\n",
      "Epoch 31, CIFAR-10 Batch 5:  Loss:     0.3051 Validation Accuracy: 0.620800\n",
      "Epoch 32, CIFAR-10 Batch 1:  Loss:     0.5028 Validation Accuracy: 0.636200\n",
      "Epoch 32, CIFAR-10 Batch 2:  Loss:     0.5649 Validation Accuracy: 0.613800\n",
      "Epoch 32, CIFAR-10 Batch 3:  Loss:     0.4540 Validation Accuracy: 0.624800\n",
      "Epoch 32, CIFAR-10 Batch 4:  Loss:     0.5546 Validation Accuracy: 0.612800\n",
      "Epoch 32, CIFAR-10 Batch 5:  Loss:     0.3221 Validation Accuracy: 0.631000\n",
      "Epoch 33, CIFAR-10 Batch 1:  Loss:     0.3921 Validation Accuracy: 0.625400\n",
      "Epoch 33, CIFAR-10 Batch 2:  Loss:     0.5327 Validation Accuracy: 0.622200\n",
      "Epoch 33, CIFAR-10 Batch 3:  Loss:     0.4187 Validation Accuracy: 0.619800\n",
      "Epoch 33, CIFAR-10 Batch 4:  Loss:     0.5478 Validation Accuracy: 0.623600\n",
      "Epoch 33, CIFAR-10 Batch 5:  Loss:     0.3409 Validation Accuracy: 0.623400\n",
      "Epoch 34, CIFAR-10 Batch 1:  Loss:     0.4839 Validation Accuracy: 0.628600\n",
      "Epoch 34, CIFAR-10 Batch 2:  Loss:     0.5369 Validation Accuracy: 0.622000\n",
      "Epoch 34, CIFAR-10 Batch 3:  Loss:     0.4309 Validation Accuracy: 0.617400\n",
      "Epoch 34, CIFAR-10 Batch 4:  Loss:     0.5324 Validation Accuracy: 0.621800\n",
      "Epoch 34, CIFAR-10 Batch 5:  Loss:     0.2964 Validation Accuracy: 0.618800\n",
      "Epoch 35, CIFAR-10 Batch 1:  Loss:     0.4460 Validation Accuracy: 0.618600\n",
      "Epoch 35, CIFAR-10 Batch 2:  Loss:     0.5318 Validation Accuracy: 0.622600\n",
      "Epoch 35, CIFAR-10 Batch 3:  Loss:     0.3910 Validation Accuracy: 0.632400\n",
      "Epoch 35, CIFAR-10 Batch 4:  Loss:     0.4850 Validation Accuracy: 0.632200\n",
      "Epoch 35, CIFAR-10 Batch 5:  Loss:     0.3470 Validation Accuracy: 0.608800\n",
      "Epoch 36, CIFAR-10 Batch 1:  Loss:     0.4314 Validation Accuracy: 0.631000\n",
      "Epoch 36, CIFAR-10 Batch 2:  Loss:     0.4882 Validation Accuracy: 0.598400\n",
      "Epoch 36, CIFAR-10 Batch 3:  Loss:     0.3866 Validation Accuracy: 0.628800\n",
      "Epoch 36, CIFAR-10 Batch 4:  Loss:     0.5059 Validation Accuracy: 0.630200\n",
      "Epoch 36, CIFAR-10 Batch 5:  Loss:     0.3268 Validation Accuracy: 0.627000\n",
      "Epoch 37, CIFAR-10 Batch 1:  Loss:     0.4413 Validation Accuracy: 0.631200\n",
      "Epoch 37, CIFAR-10 Batch 2:  Loss:     0.5106 Validation Accuracy: 0.630200\n",
      "Epoch 37, CIFAR-10 Batch 3:  Loss:     0.3882 Validation Accuracy: 0.634800\n",
      "Epoch 37, CIFAR-10 Batch 4:  Loss:     0.4657 Validation Accuracy: 0.628400\n",
      "Epoch 37, CIFAR-10 Batch 5:  Loss:     0.3043 Validation Accuracy: 0.623800\n",
      "Epoch 38, CIFAR-10 Batch 1:  Loss:     0.4236 Validation Accuracy: 0.629000\n",
      "Epoch 38, CIFAR-10 Batch 2:  Loss:     0.5050 Validation Accuracy: 0.620800\n",
      "Epoch 38, CIFAR-10 Batch 3:  Loss:     0.3950 Validation Accuracy: 0.630000\n",
      "Epoch 38, CIFAR-10 Batch 4:  Loss:     0.4726 Validation Accuracy: 0.625000\n",
      "Epoch 38, CIFAR-10 Batch 5:  Loss:     0.2846 Validation Accuracy: 0.622800\n",
      "Epoch 39, CIFAR-10 Batch 1:  Loss:     0.4445 Validation Accuracy: 0.626200\n",
      "Epoch 39, CIFAR-10 Batch 2:  Loss:     0.4901 Validation Accuracy: 0.605200\n",
      "Epoch 39, CIFAR-10 Batch 3:  Loss:     0.4597 Validation Accuracy: 0.620400\n",
      "Epoch 39, CIFAR-10 Batch 4:  Loss:     0.4322 Validation Accuracy: 0.627200\n",
      "Epoch 39, CIFAR-10 Batch 5:  Loss:     0.2677 Validation Accuracy: 0.627800\n",
      "Epoch 40, CIFAR-10 Batch 1:  Loss:     0.4144 Validation Accuracy: 0.623600\n",
      "Epoch 40, CIFAR-10 Batch 2:  Loss:     0.5735 Validation Accuracy: 0.615000\n",
      "Epoch 40, CIFAR-10 Batch 3:  Loss:     0.3841 Validation Accuracy: 0.636600\n",
      "Epoch 40, CIFAR-10 Batch 4:  Loss:     0.4385 Validation Accuracy: 0.626400\n",
      "Epoch 40, CIFAR-10 Batch 5:  Loss:     0.2487 Validation Accuracy: 0.638200\n",
      "Epoch 41, CIFAR-10 Batch 1:  Loss:     0.3526 Validation Accuracy: 0.636600\n",
      "Epoch 41, CIFAR-10 Batch 2:  Loss:     0.4908 Validation Accuracy: 0.628400\n",
      "Epoch 41, CIFAR-10 Batch 3:  Loss:     0.3901 Validation Accuracy: 0.631400\n",
      "Epoch 41, CIFAR-10 Batch 4:  Loss:     0.4340 Validation Accuracy: 0.633000\n",
      "Epoch 41, CIFAR-10 Batch 5:  Loss:     0.2596 Validation Accuracy: 0.624200\n",
      "Epoch 42, CIFAR-10 Batch 1:  Loss:     0.3527 Validation Accuracy: 0.623000\n",
      "Epoch 42, CIFAR-10 Batch 2:  Loss:     0.4397 Validation Accuracy: 0.624600\n",
      "Epoch 42, CIFAR-10 Batch 3:  Loss:     0.3948 Validation Accuracy: 0.631200\n",
      "Epoch 42, CIFAR-10 Batch 4:  Loss:     0.4266 Validation Accuracy: 0.633400\n",
      "Epoch 42, CIFAR-10 Batch 5:  Loss:     0.2803 Validation Accuracy: 0.622800\n",
      "Epoch 43, CIFAR-10 Batch 1:  Loss:     0.3839 Validation Accuracy: 0.629000\n",
      "Epoch 43, CIFAR-10 Batch 2:  Loss:     0.4741 Validation Accuracy: 0.631200\n",
      "Epoch 43, CIFAR-10 Batch 3:  Loss:     0.3695 Validation Accuracy: 0.632600\n",
      "Epoch 43, CIFAR-10 Batch 4:  Loss:     0.3994 Validation Accuracy: 0.618800\n",
      "Epoch 43, CIFAR-10 Batch 5:  Loss:     0.2879 Validation Accuracy: 0.624400\n",
      "Epoch 44, CIFAR-10 Batch 1:  Loss:     0.3318 Validation Accuracy: 0.630800\n",
      "Epoch 44, CIFAR-10 Batch 2:  Loss:     0.5004 Validation Accuracy: 0.614800\n",
      "Epoch 44, CIFAR-10 Batch 3:  Loss:     0.3570 Validation Accuracy: 0.626000\n",
      "Epoch 44, CIFAR-10 Batch 4:  Loss:     0.4016 Validation Accuracy: 0.633400\n",
      "Epoch 44, CIFAR-10 Batch 5:  Loss:     0.2760 Validation Accuracy: 0.620200\n",
      "Epoch 45, CIFAR-10 Batch 1:  Loss:     0.3596 Validation Accuracy: 0.630600\n",
      "Epoch 45, CIFAR-10 Batch 2:  Loss:     0.4112 Validation Accuracy: 0.614800\n",
      "Epoch 45, CIFAR-10 Batch 3:  Loss:     0.3651 Validation Accuracy: 0.631400\n",
      "Epoch 45, CIFAR-10 Batch 4:  Loss:     0.4076 Validation Accuracy: 0.637600\n",
      "Epoch 45, CIFAR-10 Batch 5:  Loss:     0.2531 Validation Accuracy: 0.632800\n",
      "Epoch 46, CIFAR-10 Batch 1:  Loss:     0.3316 Validation Accuracy: 0.632200\n",
      "Epoch 46, CIFAR-10 Batch 2:  Loss:     0.3978 Validation Accuracy: 0.620600\n",
      "Epoch 46, CIFAR-10 Batch 3:  Loss:     0.3551 Validation Accuracy: 0.634400\n",
      "Epoch 46, CIFAR-10 Batch 4:  Loss:     0.5004 Validation Accuracy: 0.618800\n",
      "Epoch 46, CIFAR-10 Batch 5:  Loss:     0.2986 Validation Accuracy: 0.625000\n",
      "Epoch 47, CIFAR-10 Batch 1:  Loss:     0.3472 Validation Accuracy: 0.635600\n",
      "Epoch 47, CIFAR-10 Batch 2:  Loss:     0.4930 Validation Accuracy: 0.612200\n",
      "Epoch 47, CIFAR-10 Batch 3:  Loss:     0.3856 Validation Accuracy: 0.628200\n",
      "Epoch 47, CIFAR-10 Batch 4:  Loss:     0.4176 Validation Accuracy: 0.636200\n",
      "Epoch 47, CIFAR-10 Batch 5:  Loss:     0.2832 Validation Accuracy: 0.637600\n",
      "Epoch 48, CIFAR-10 Batch 1:  Loss:     0.3632 Validation Accuracy: 0.639400\n",
      "Epoch 48, CIFAR-10 Batch 2:  Loss:     0.4305 Validation Accuracy: 0.621600\n",
      "Epoch 48, CIFAR-10 Batch 3:  Loss:     0.3631 Validation Accuracy: 0.623200\n",
      "Epoch 48, CIFAR-10 Batch 4:  Loss:     0.4467 Validation Accuracy: 0.630400\n",
      "Epoch 48, CIFAR-10 Batch 5:  Loss:     0.2527 Validation Accuracy: 0.619200\n",
      "Epoch 49, CIFAR-10 Batch 1:  Loss:     0.4035 Validation Accuracy: 0.625800\n",
      "Epoch 49, CIFAR-10 Batch 2:  Loss:     0.4369 Validation Accuracy: 0.601800\n",
      "Epoch 49, CIFAR-10 Batch 3:  Loss:     0.4244 Validation Accuracy: 0.616800\n",
      "Epoch 49, CIFAR-10 Batch 4:  Loss:     0.4371 Validation Accuracy: 0.622400\n",
      "Epoch 49, CIFAR-10 Batch 5:  Loss:     0.2639 Validation Accuracy: 0.620400\n",
      "Epoch 50, CIFAR-10 Batch 1:  Loss:     0.4444 Validation Accuracy: 0.625400\n",
      "Epoch 50, CIFAR-10 Batch 2:  Loss:     0.4230 Validation Accuracy: 0.617400\n",
      "Epoch 50, CIFAR-10 Batch 3:  Loss:     0.3466 Validation Accuracy: 0.632600\n",
      "Epoch 50, CIFAR-10 Batch 4:  Loss:     0.4282 Validation Accuracy: 0.619800\n",
      "Epoch 50, CIFAR-10 Batch 5:  Loss:     0.2465 Validation Accuracy: 0.619600\n",
      "Epoch 51, CIFAR-10 Batch 1:  Loss:     0.3609 Validation Accuracy: 0.614000\n",
      "Epoch 51, CIFAR-10 Batch 2:  Loss:     0.4212 Validation Accuracy: 0.624000\n",
      "Epoch 51, CIFAR-10 Batch 3:  Loss:     0.3737 Validation Accuracy: 0.614400\n",
      "Epoch 51, CIFAR-10 Batch 4:  Loss:     0.4344 Validation Accuracy: 0.609200\n",
      "Epoch 51, CIFAR-10 Batch 5:  Loss:     0.2553 Validation Accuracy: 0.613600\n",
      "Epoch 52, CIFAR-10 Batch 1:  Loss:     0.3530 Validation Accuracy: 0.627400\n",
      "Epoch 52, CIFAR-10 Batch 2:  Loss:     0.4141 Validation Accuracy: 0.622000\n",
      "Epoch 52, CIFAR-10 Batch 3:  Loss:     0.4028 Validation Accuracy: 0.627400\n",
      "Epoch 52, CIFAR-10 Batch 4:  Loss:     0.4281 Validation Accuracy: 0.621400\n",
      "Epoch 52, CIFAR-10 Batch 5:  Loss:     0.2263 Validation Accuracy: 0.625200\n",
      "Epoch 53, CIFAR-10 Batch 1:  Loss:     0.4077 Validation Accuracy: 0.624200\n",
      "Epoch 53, CIFAR-10 Batch 2:  Loss:     0.4476 Validation Accuracy: 0.607200\n",
      "Epoch 53, CIFAR-10 Batch 3:  Loss:     0.3544 Validation Accuracy: 0.630600\n",
      "Epoch 53, CIFAR-10 Batch 4:  Loss:     0.3902 Validation Accuracy: 0.627800\n",
      "Epoch 53, CIFAR-10 Batch 5:  Loss:     0.2409 Validation Accuracy: 0.630600\n",
      "Epoch 54, CIFAR-10 Batch 1:  Loss:     0.3433 Validation Accuracy: 0.625800\n",
      "Epoch 54, CIFAR-10 Batch 2:  Loss:     0.4263 Validation Accuracy: 0.616000\n",
      "Epoch 54, CIFAR-10 Batch 3:  Loss:     0.3883 Validation Accuracy: 0.625600\n",
      "Epoch 54, CIFAR-10 Batch 4:  Loss:     0.3698 Validation Accuracy: 0.630400\n",
      "Epoch 54, CIFAR-10 Batch 5:  Loss:     0.2228 Validation Accuracy: 0.626800\n",
      "Epoch 55, CIFAR-10 Batch 1:  Loss:     0.4884 Validation Accuracy: 0.636600\n",
      "Epoch 55, CIFAR-10 Batch 2:  Loss:     0.4063 Validation Accuracy: 0.621400\n",
      "Epoch 55, CIFAR-10 Batch 3:  Loss:     0.3941 Validation Accuracy: 0.622200\n",
      "Epoch 55, CIFAR-10 Batch 4:  Loss:     0.3942 Validation Accuracy: 0.609000\n",
      "Epoch 55, CIFAR-10 Batch 5:  Loss:     0.2585 Validation Accuracy: 0.615200\n",
      "Epoch 56, CIFAR-10 Batch 1:  Loss:     0.3510 Validation Accuracy: 0.623800\n",
      "Epoch 56, CIFAR-10 Batch 2:  Loss:     0.4501 Validation Accuracy: 0.613800\n",
      "Epoch 56, CIFAR-10 Batch 3:  Loss:     0.3460 Validation Accuracy: 0.631000\n",
      "Epoch 56, CIFAR-10 Batch 4:  Loss:     0.3927 Validation Accuracy: 0.634000\n",
      "Epoch 56, CIFAR-10 Batch 5:  Loss:     0.2436 Validation Accuracy: 0.609800\n",
      "Epoch 57, CIFAR-10 Batch 1:  Loss:     0.3940 Validation Accuracy: 0.628800\n",
      "Epoch 57, CIFAR-10 Batch 2:  Loss:     0.4127 Validation Accuracy: 0.629400\n",
      "Epoch 57, CIFAR-10 Batch 3:  Loss:     0.3590 Validation Accuracy: 0.624000\n",
      "Epoch 57, CIFAR-10 Batch 4:  Loss:     0.3532 Validation Accuracy: 0.630800\n",
      "Epoch 57, CIFAR-10 Batch 5:  Loss:     0.3455 Validation Accuracy: 0.612600\n",
      "Epoch 58, CIFAR-10 Batch 1:  Loss:     0.3653 Validation Accuracy: 0.625600\n",
      "Epoch 58, CIFAR-10 Batch 2:  Loss:     0.4255 Validation Accuracy: 0.620000\n",
      "Epoch 58, CIFAR-10 Batch 3:  Loss:     0.3477 Validation Accuracy: 0.620200\n",
      "Epoch 58, CIFAR-10 Batch 4:  Loss:     0.4035 Validation Accuracy: 0.624600\n",
      "Epoch 58, CIFAR-10 Batch 5:  Loss:     0.2841 Validation Accuracy: 0.620800\n",
      "Epoch 59, CIFAR-10 Batch 1:  Loss:     0.3401 Validation Accuracy: 0.630200\n",
      "Epoch 59, CIFAR-10 Batch 2:  Loss:     0.4336 Validation Accuracy: 0.613000\n",
      "Epoch 59, CIFAR-10 Batch 3:  Loss:     0.3266 Validation Accuracy: 0.616600\n",
      "Epoch 59, CIFAR-10 Batch 4:  Loss:     0.4857 Validation Accuracy: 0.624800\n",
      "Epoch 59, CIFAR-10 Batch 5:  Loss:     0.2216 Validation Accuracy: 0.626400\n",
      "Epoch 60, CIFAR-10 Batch 1:  Loss:     0.3590 Validation Accuracy: 0.623800\n",
      "Epoch 60, CIFAR-10 Batch 2:  Loss:     0.4834 Validation Accuracy: 0.625200\n",
      "Epoch 60, CIFAR-10 Batch 3:  Loss:     0.3557 Validation Accuracy: 0.611400\n",
      "Epoch 60, CIFAR-10 Batch 4:  Loss:     0.3587 Validation Accuracy: 0.620200\n",
      "Epoch 60, CIFAR-10 Batch 5:  Loss:     0.2480 Validation Accuracy: 0.619400\n",
      "Epoch 61, CIFAR-10 Batch 1:  Loss:     0.3314 Validation Accuracy: 0.616800\n",
      "Epoch 61, CIFAR-10 Batch 2:  Loss:     0.4199 Validation Accuracy: 0.616800\n",
      "Epoch 61, CIFAR-10 Batch 3:  Loss:     0.3135 Validation Accuracy: 0.624800\n",
      "Epoch 61, CIFAR-10 Batch 4:  Loss:     0.3925 Validation Accuracy: 0.622400\n",
      "Epoch 61, CIFAR-10 Batch 5:  Loss:     0.2833 Validation Accuracy: 0.621800\n",
      "Epoch 62, CIFAR-10 Batch 1:  Loss:     0.3282 Validation Accuracy: 0.631000\n",
      "Epoch 62, CIFAR-10 Batch 2:  Loss:     0.4009 Validation Accuracy: 0.615600\n",
      "Epoch 62, CIFAR-10 Batch 3:  Loss:     0.3423 Validation Accuracy: 0.621800\n",
      "Epoch 62, CIFAR-10 Batch 4:  Loss:     0.3518 Validation Accuracy: 0.618000\n",
      "Epoch 62, CIFAR-10 Batch 5:  Loss:     0.2151 Validation Accuracy: 0.628200\n",
      "Epoch 63, CIFAR-10 Batch 1:  Loss:     0.3488 Validation Accuracy: 0.616800\n",
      "Epoch 63, CIFAR-10 Batch 2:  Loss:     0.4072 Validation Accuracy: 0.622400\n",
      "Epoch 63, CIFAR-10 Batch 3:  Loss:     0.3109 Validation Accuracy: 0.627200\n",
      "Epoch 63, CIFAR-10 Batch 4:  Loss:     0.3496 Validation Accuracy: 0.608800\n",
      "Epoch 63, CIFAR-10 Batch 5:  Loss:     0.2215 Validation Accuracy: 0.620000\n",
      "Epoch 64, CIFAR-10 Batch 1:  Loss:     0.4298 Validation Accuracy: 0.617800\n",
      "Epoch 64, CIFAR-10 Batch 2:  Loss:     0.4021 Validation Accuracy: 0.614800\n",
      "Epoch 64, CIFAR-10 Batch 3:  Loss:     0.3773 Validation Accuracy: 0.626200\n",
      "Epoch 64, CIFAR-10 Batch 4:  Loss:     0.3880 Validation Accuracy: 0.626200\n",
      "Epoch 64, CIFAR-10 Batch 5:  Loss:     0.2143 Validation Accuracy: 0.623600\n",
      "Epoch 65, CIFAR-10 Batch 1:  Loss:     0.3307 Validation Accuracy: 0.621600\n",
      "Epoch 65, CIFAR-10 Batch 2:  Loss:     0.4058 Validation Accuracy: 0.624200\n",
      "Epoch 65, CIFAR-10 Batch 3:  Loss:     0.3479 Validation Accuracy: 0.619400\n",
      "Epoch 65, CIFAR-10 Batch 4:  Loss:     0.3501 Validation Accuracy: 0.621600\n",
      "Epoch 65, CIFAR-10 Batch 5:  Loss:     0.2052 Validation Accuracy: 0.619400\n",
      "Epoch 66, CIFAR-10 Batch 1:  Loss:     0.3874 Validation Accuracy: 0.624200\n",
      "Epoch 66, CIFAR-10 Batch 2:  Loss:     0.3953 Validation Accuracy: 0.614600\n",
      "Epoch 66, CIFAR-10 Batch 3:  Loss:     0.3450 Validation Accuracy: 0.621200\n",
      "Epoch 66, CIFAR-10 Batch 4:  Loss:     0.3466 Validation Accuracy: 0.607800\n",
      "Epoch 66, CIFAR-10 Batch 5:  Loss:     0.2382 Validation Accuracy: 0.626800\n",
      "Epoch 67, CIFAR-10 Batch 1:  Loss:     0.4093 Validation Accuracy: 0.634400\n",
      "Epoch 67, CIFAR-10 Batch 2:  Loss:     0.4095 Validation Accuracy: 0.623600\n",
      "Epoch 67, CIFAR-10 Batch 3:  Loss:     0.3346 Validation Accuracy: 0.622000\n",
      "Epoch 67, CIFAR-10 Batch 4:  Loss:     0.3698 Validation Accuracy: 0.624200\n",
      "Epoch 67, CIFAR-10 Batch 5:  Loss:     0.2123 Validation Accuracy: 0.626400\n",
      "Epoch 68, CIFAR-10 Batch 1:  Loss:     0.3486 Validation Accuracy: 0.622400\n",
      "Epoch 68, CIFAR-10 Batch 2:  Loss:     0.4372 Validation Accuracy: 0.623800\n",
      "Epoch 68, CIFAR-10 Batch 3:  Loss:     0.3361 Validation Accuracy: 0.620800\n",
      "Epoch 68, CIFAR-10 Batch 4:  Loss:     0.3386 Validation Accuracy: 0.618800\n",
      "Epoch 68, CIFAR-10 Batch 5:  Loss:     0.1981 Validation Accuracy: 0.615200\n",
      "Epoch 69, CIFAR-10 Batch 1:  Loss:     0.3332 Validation Accuracy: 0.632400\n",
      "Epoch 69, CIFAR-10 Batch 2:  Loss:     0.4086 Validation Accuracy: 0.627800\n",
      "Epoch 69, CIFAR-10 Batch 3:  Loss:     0.3260 Validation Accuracy: 0.619200\n",
      "Epoch 69, CIFAR-10 Batch 4:  Loss:     0.3414 Validation Accuracy: 0.624800\n",
      "Epoch 69, CIFAR-10 Batch 5:  Loss:     0.2290 Validation Accuracy: 0.626200\n",
      "Epoch 70, CIFAR-10 Batch 1:  Loss:     0.3657 Validation Accuracy: 0.602600\n",
      "Epoch 70, CIFAR-10 Batch 2:  Loss:     0.4264 Validation Accuracy: 0.628800\n",
      "Epoch 70, CIFAR-10 Batch 3:  Loss:     0.3423 Validation Accuracy: 0.620800\n",
      "Epoch 70, CIFAR-10 Batch 4:  Loss:     0.3429 Validation Accuracy: 0.605800\n",
      "Epoch 70, CIFAR-10 Batch 5:  Loss:     0.3465 Validation Accuracy: 0.621800\n",
      "Epoch 71, CIFAR-10 Batch 1:  Loss:     0.3441 Validation Accuracy: 0.622200\n",
      "Epoch 71, CIFAR-10 Batch 2:  Loss:     0.3956 Validation Accuracy: 0.605400\n",
      "Epoch 71, CIFAR-10 Batch 3:  Loss:     0.3502 Validation Accuracy: 0.619000\n",
      "Epoch 71, CIFAR-10 Batch 4:  Loss:     0.4138 Validation Accuracy: 0.622800\n",
      "Epoch 71, CIFAR-10 Batch 5:  Loss:     0.4336 Validation Accuracy: 0.622200\n",
      "Epoch 72, CIFAR-10 Batch 1:  Loss:     0.3375 Validation Accuracy: 0.615200\n",
      "Epoch 72, CIFAR-10 Batch 2:  Loss:     0.4067 Validation Accuracy: 0.621000\n",
      "Epoch 72, CIFAR-10 Batch 3:  Loss:     0.3391 Validation Accuracy: 0.636200\n",
      "Epoch 72, CIFAR-10 Batch 4:  Loss:     0.3556 Validation Accuracy: 0.617000\n",
      "Epoch 72, CIFAR-10 Batch 5:  Loss:     0.2757 Validation Accuracy: 0.616200\n",
      "Epoch 73, CIFAR-10 Batch 1:  Loss:     0.3281 Validation Accuracy: 0.614000\n",
      "Epoch 73, CIFAR-10 Batch 2:  Loss:     0.4389 Validation Accuracy: 0.628800\n",
      "Epoch 73, CIFAR-10 Batch 3:  Loss:     0.3466 Validation Accuracy: 0.620600\n",
      "Epoch 73, CIFAR-10 Batch 4:  Loss:     0.3906 Validation Accuracy: 0.618400\n",
      "Epoch 73, CIFAR-10 Batch 5:  Loss:     0.2015 Validation Accuracy: 0.622000\n",
      "Epoch 74, CIFAR-10 Batch 1:  Loss:     0.3385 Validation Accuracy: 0.621600\n",
      "Epoch 74, CIFAR-10 Batch 2:  Loss:     0.4144 Validation Accuracy: 0.618400\n",
      "Epoch 74, CIFAR-10 Batch 3:  Loss:     0.3478 Validation Accuracy: 0.624200\n",
      "Epoch 74, CIFAR-10 Batch 4:  Loss:     0.3547 Validation Accuracy: 0.631400\n",
      "Epoch 74, CIFAR-10 Batch 5:  Loss:     0.2760 Validation Accuracy: 0.611000\n",
      "Epoch 75, CIFAR-10 Batch 1:  Loss:     0.3346 Validation Accuracy: 0.628600\n",
      "Epoch 75, CIFAR-10 Batch 2:  Loss:     0.3773 Validation Accuracy: 0.620600\n",
      "Epoch 75, CIFAR-10 Batch 3:  Loss:     0.3614 Validation Accuracy: 0.619400\n",
      "Epoch 75, CIFAR-10 Batch 4:  Loss:     0.3805 Validation Accuracy: 0.617200\n",
      "Epoch 75, CIFAR-10 Batch 5:  Loss:     0.2264 Validation Accuracy: 0.631200\n",
      "Epoch 76, CIFAR-10 Batch 1:  Loss:     0.3286 Validation Accuracy: 0.625800\n",
      "Epoch 76, CIFAR-10 Batch 2:  Loss:     0.4369 Validation Accuracy: 0.617200\n",
      "Epoch 76, CIFAR-10 Batch 3:  Loss:     0.3118 Validation Accuracy: 0.621000\n",
      "Epoch 76, CIFAR-10 Batch 4:  Loss:     0.3465 Validation Accuracy: 0.620200\n",
      "Epoch 76, CIFAR-10 Batch 5:  Loss:     0.2209 Validation Accuracy: 0.618600\n",
      "Epoch 77, CIFAR-10 Batch 1:  Loss:     0.3331 Validation Accuracy: 0.626800\n",
      "Epoch 77, CIFAR-10 Batch 2:  Loss:     0.3983 Validation Accuracy: 0.632800\n",
      "Epoch 77, CIFAR-10 Batch 3:  Loss:     0.3756 Validation Accuracy: 0.626600\n",
      "Epoch 77, CIFAR-10 Batch 4:  Loss:     0.3498 Validation Accuracy: 0.622600\n",
      "Epoch 77, CIFAR-10 Batch 5:  Loss:     0.1974 Validation Accuracy: 0.618600\n",
      "Epoch 78, CIFAR-10 Batch 1:  Loss:     0.3433 Validation Accuracy: 0.621400\n",
      "Epoch 78, CIFAR-10 Batch 2:  Loss:     0.3756 Validation Accuracy: 0.631000\n",
      "Epoch 78, CIFAR-10 Batch 3:  Loss:     0.3113 Validation Accuracy: 0.619400\n",
      "Epoch 78, CIFAR-10 Batch 4:  Loss:     0.3457 Validation Accuracy: 0.627200\n",
      "Epoch 78, CIFAR-10 Batch 5:  Loss:     0.2187 Validation Accuracy: 0.618200\n",
      "Epoch 79, CIFAR-10 Batch 1:  Loss:     0.3508 Validation Accuracy: 0.634200\n",
      "Epoch 79, CIFAR-10 Batch 2:  Loss:     0.3819 Validation Accuracy: 0.630400\n",
      "Epoch 79, CIFAR-10 Batch 3:  Loss:     0.3131 Validation Accuracy: 0.618200\n",
      "Epoch 79, CIFAR-10 Batch 4:  Loss:     0.3471 Validation Accuracy: 0.612800\n",
      "Epoch 79, CIFAR-10 Batch 5:  Loss:     0.2145 Validation Accuracy: 0.629800\n",
      "Epoch 80, CIFAR-10 Batch 1:  Loss:     0.3424 Validation Accuracy: 0.627200\n",
      "Epoch 80, CIFAR-10 Batch 2:  Loss:     0.4045 Validation Accuracy: 0.626600\n",
      "Epoch 80, CIFAR-10 Batch 3:  Loss:     0.2967 Validation Accuracy: 0.621600\n",
      "Epoch 80, CIFAR-10 Batch 4:  Loss:     0.3413 Validation Accuracy: 0.630800\n",
      "Epoch 80, CIFAR-10 Batch 5:  Loss:     0.2410 Validation Accuracy: 0.627400\n",
      "Epoch 81, CIFAR-10 Batch 1:  Loss:     0.4364 Validation Accuracy: 0.629200\n",
      "Epoch 81, CIFAR-10 Batch 2:  Loss:     0.3926 Validation Accuracy: 0.629400\n",
      "Epoch 81, CIFAR-10 Batch 3:  Loss:     0.3192 Validation Accuracy: 0.624600\n",
      "Epoch 81, CIFAR-10 Batch 4:  Loss:     0.3393 Validation Accuracy: 0.628600\n",
      "Epoch 81, CIFAR-10 Batch 5:  Loss:     0.2087 Validation Accuracy: 0.627800\n",
      "Epoch 82, CIFAR-10 Batch 1:  Loss:     0.3396 Validation Accuracy: 0.622200\n",
      "Epoch 82, CIFAR-10 Batch 2:  Loss:     0.4337 Validation Accuracy: 0.635400\n",
      "Epoch 82, CIFAR-10 Batch 3:  Loss:     0.3094 Validation Accuracy: 0.617200\n",
      "Epoch 82, CIFAR-10 Batch 4:  Loss:     0.3523 Validation Accuracy: 0.622200\n",
      "Epoch 82, CIFAR-10 Batch 5:  Loss:     0.2332 Validation Accuracy: 0.623200\n",
      "Epoch 83, CIFAR-10 Batch 1:  Loss:     0.3212 Validation Accuracy: 0.624200\n",
      "Epoch 83, CIFAR-10 Batch 2:  Loss:     0.4413 Validation Accuracy: 0.627400\n",
      "Epoch 83, CIFAR-10 Batch 3:  Loss:     0.3098 Validation Accuracy: 0.630200\n",
      "Epoch 83, CIFAR-10 Batch 4:  Loss:     0.3370 Validation Accuracy: 0.615200\n",
      "Epoch 83, CIFAR-10 Batch 5:  Loss:     0.2093 Validation Accuracy: 0.631400\n",
      "Epoch 84, CIFAR-10 Batch 1:  Loss:     0.3398 Validation Accuracy: 0.621800\n",
      "Epoch 84, CIFAR-10 Batch 2:  Loss:     0.4437 Validation Accuracy: 0.629600\n",
      "Epoch 84, CIFAR-10 Batch 3:  Loss:     0.2992 Validation Accuracy: 0.619800\n",
      "Epoch 84, CIFAR-10 Batch 4:  Loss:     0.3380 Validation Accuracy: 0.624600\n",
      "Epoch 84, CIFAR-10 Batch 5:  Loss:     0.2249 Validation Accuracy: 0.615800\n",
      "Epoch 85, CIFAR-10 Batch 1:  Loss:     0.3333 Validation Accuracy: 0.614600\n",
      "Epoch 85, CIFAR-10 Batch 2:  Loss:     0.4191 Validation Accuracy: 0.613800\n",
      "Epoch 85, CIFAR-10 Batch 3:  Loss:     0.2878 Validation Accuracy: 0.627000\n",
      "Epoch 85, CIFAR-10 Batch 4:  Loss:     0.3510 Validation Accuracy: 0.619000\n",
      "Epoch 85, CIFAR-10 Batch 5:  Loss:     0.1922 Validation Accuracy: 0.626800\n",
      "Epoch 86, CIFAR-10 Batch 1:  Loss:     0.3844 Validation Accuracy: 0.626000\n",
      "Epoch 86, CIFAR-10 Batch 2:  Loss:     0.4290 Validation Accuracy: 0.629600\n",
      "Epoch 86, CIFAR-10 Batch 3:  Loss:     0.3124 Validation Accuracy: 0.627800\n",
      "Epoch 86, CIFAR-10 Batch 4:  Loss:     0.3320 Validation Accuracy: 0.626200\n",
      "Epoch 86, CIFAR-10 Batch 5:  Loss:     0.2430 Validation Accuracy: 0.624200\n",
      "Epoch 87, CIFAR-10 Batch 1:  Loss:     0.4163 Validation Accuracy: 0.610800\n",
      "Epoch 87, CIFAR-10 Batch 2:  Loss:     0.3897 Validation Accuracy: 0.628000\n",
      "Epoch 87, CIFAR-10 Batch 3:  Loss:     0.2851 Validation Accuracy: 0.630200\n",
      "Epoch 87, CIFAR-10 Batch 4:  Loss:     0.3403 Validation Accuracy: 0.623200\n",
      "Epoch 87, CIFAR-10 Batch 5:  Loss:     0.2101 Validation Accuracy: 0.631000\n",
      "Epoch 88, CIFAR-10 Batch 1:  Loss:     0.4720 Validation Accuracy: 0.618800\n",
      "Epoch 88, CIFAR-10 Batch 2:  Loss:     0.4445 Validation Accuracy: 0.630000\n",
      "Epoch 88, CIFAR-10 Batch 3:  Loss:     0.2907 Validation Accuracy: 0.622600\n",
      "Epoch 88, CIFAR-10 Batch 4:  Loss:     0.3394 Validation Accuracy: 0.621200\n",
      "Epoch 88, CIFAR-10 Batch 5:  Loss:     0.2157 Validation Accuracy: 0.629800\n",
      "Epoch 89, CIFAR-10 Batch 1:  Loss:     0.3382 Validation Accuracy: 0.626200\n",
      "Epoch 89, CIFAR-10 Batch 2:  Loss:     0.4027 Validation Accuracy: 0.631400\n",
      "Epoch 89, CIFAR-10 Batch 3:  Loss:     0.2801 Validation Accuracy: 0.623200\n",
      "Epoch 89, CIFAR-10 Batch 4:  Loss:     0.3299 Validation Accuracy: 0.617800\n",
      "Epoch 89, CIFAR-10 Batch 5:  Loss:     0.2747 Validation Accuracy: 0.626400\n",
      "Epoch 90, CIFAR-10 Batch 1:  Loss:     0.3412 Validation Accuracy: 0.629800\n",
      "Epoch 90, CIFAR-10 Batch 2:  Loss:     0.4007 Validation Accuracy: 0.622200\n",
      "Epoch 90, CIFAR-10 Batch 3:  Loss:     0.3010 Validation Accuracy: 0.623000\n",
      "Epoch 90, CIFAR-10 Batch 4:  Loss:     0.3457 Validation Accuracy: 0.627600\n",
      "Epoch 90, CIFAR-10 Batch 5:  Loss:     0.1935 Validation Accuracy: 0.631800\n",
      "Epoch 91, CIFAR-10 Batch 1:  Loss:     0.3960 Validation Accuracy: 0.631400\n",
      "Epoch 91, CIFAR-10 Batch 2:  Loss:     0.4426 Validation Accuracy: 0.636000\n",
      "Epoch 91, CIFAR-10 Batch 3:  Loss:     0.3309 Validation Accuracy: 0.617800\n",
      "Epoch 91, CIFAR-10 Batch 4:  Loss:     0.3333 Validation Accuracy: 0.628200\n",
      "Epoch 91, CIFAR-10 Batch 5:  Loss:     0.2294 Validation Accuracy: 0.615400\n",
      "Epoch 92, CIFAR-10 Batch 1:  Loss:     0.3923 Validation Accuracy: 0.607400\n",
      "Epoch 92, CIFAR-10 Batch 2:  Loss:     0.3708 Validation Accuracy: 0.629000\n",
      "Epoch 92, CIFAR-10 Batch 3:  Loss:     0.3679 Validation Accuracy: 0.608400\n",
      "Epoch 92, CIFAR-10 Batch 4:  Loss:     0.3479 Validation Accuracy: 0.624200\n",
      "Epoch 92, CIFAR-10 Batch 5:  Loss:     0.1923 Validation Accuracy: 0.628400\n",
      "Epoch 93, CIFAR-10 Batch 1:  Loss:     0.3522 Validation Accuracy: 0.624400\n",
      "Epoch 93, CIFAR-10 Batch 2:  Loss:     0.3886 Validation Accuracy: 0.630200\n",
      "Epoch 93, CIFAR-10 Batch 3:  Loss:     0.3151 Validation Accuracy: 0.631600\n",
      "Epoch 93, CIFAR-10 Batch 4:  Loss:     0.3183 Validation Accuracy: 0.615800\n",
      "Epoch 93, CIFAR-10 Batch 5:  Loss:     0.2248 Validation Accuracy: 0.619800\n",
      "Epoch 94, CIFAR-10 Batch 1:  Loss:     0.3936 Validation Accuracy: 0.612400\n",
      "Epoch 94, CIFAR-10 Batch 2:  Loss:     0.3999 Validation Accuracy: 0.626000\n",
      "Epoch 94, CIFAR-10 Batch 3:  Loss:     0.3174 Validation Accuracy: 0.626200\n",
      "Epoch 94, CIFAR-10 Batch 4:  Loss:     0.3372 Validation Accuracy: 0.614400\n",
      "Epoch 94, CIFAR-10 Batch 5:  Loss:     0.2109 Validation Accuracy: 0.620600\n",
      "Epoch 95, CIFAR-10 Batch 1:  Loss:     0.3502 Validation Accuracy: 0.597800\n",
      "Epoch 95, CIFAR-10 Batch 2:  Loss:     0.3916 Validation Accuracy: 0.628400\n",
      "Epoch 95, CIFAR-10 Batch 3:  Loss:     0.3065 Validation Accuracy: 0.631200\n",
      "Epoch 95, CIFAR-10 Batch 4:  Loss:     0.2991 Validation Accuracy: 0.624800\n",
      "Epoch 95, CIFAR-10 Batch 5:  Loss:     0.1944 Validation Accuracy: 0.619400\n",
      "Epoch 96, CIFAR-10 Batch 1:  Loss:     0.3409 Validation Accuracy: 0.618600\n",
      "Epoch 96, CIFAR-10 Batch 2:  Loss:     0.3974 Validation Accuracy: 0.624200\n",
      "Epoch 96, CIFAR-10 Batch 3:  Loss:     0.2922 Validation Accuracy: 0.624400\n",
      "Epoch 96, CIFAR-10 Batch 4:  Loss:     0.3334 Validation Accuracy: 0.613200\n",
      "Epoch 96, CIFAR-10 Batch 5:  Loss:     0.2018 Validation Accuracy: 0.621800\n",
      "Epoch 97, CIFAR-10 Batch 1:  Loss:     0.3408 Validation Accuracy: 0.629800\n",
      "Epoch 97, CIFAR-10 Batch 2:  Loss:     0.3527 Validation Accuracy: 0.627800\n",
      "Epoch 97, CIFAR-10 Batch 3:  Loss:     0.2999 Validation Accuracy: 0.621200\n",
      "Epoch 97, CIFAR-10 Batch 4:  Loss:     0.3229 Validation Accuracy: 0.614400\n",
      "Epoch 97, CIFAR-10 Batch 5:  Loss:     0.2029 Validation Accuracy: 0.616200\n",
      "Epoch 98, CIFAR-10 Batch 1:  Loss:     0.3368 Validation Accuracy: 0.613000\n",
      "Epoch 98, CIFAR-10 Batch 2:  Loss:     0.3665 Validation Accuracy: 0.627000\n",
      "Epoch 98, CIFAR-10 Batch 3:  Loss:     0.3194 Validation Accuracy: 0.629400\n",
      "Epoch 98, CIFAR-10 Batch 4:  Loss:     0.3374 Validation Accuracy: 0.628000\n",
      "Epoch 98, CIFAR-10 Batch 5:  Loss:     0.2164 Validation Accuracy: 0.611600\n",
      "Epoch 99, CIFAR-10 Batch 1:  Loss:     0.3662 Validation Accuracy: 0.626400\n",
      "Epoch 99, CIFAR-10 Batch 2:  Loss:     0.3623 Validation Accuracy: 0.630400\n",
      "Epoch 99, CIFAR-10 Batch 3:  Loss:     0.3086 Validation Accuracy: 0.621200\n",
      "Epoch 99, CIFAR-10 Batch 4:  Loss:     0.3625 Validation Accuracy: 0.618800\n",
      "Epoch 99, CIFAR-10 Batch 5:  Loss:     0.2533 Validation Accuracy: 0.624200\n",
      "Epoch 100, CIFAR-10 Batch 1:  Loss:     0.3672 Validation Accuracy: 0.631400\n",
      "Epoch 100, CIFAR-10 Batch 2:  Loss:     0.3737 Validation Accuracy: 0.623600\n",
      "Epoch 100, CIFAR-10 Batch 3:  Loss:     0.3157 Validation Accuracy: 0.634400\n",
      "Epoch 100, CIFAR-10 Batch 4:  Loss:     0.3241 Validation Accuracy: 0.626200\n",
      "Epoch 100, CIFAR-10 Batch 5:  Loss:     0.1856 Validation Accuracy: 0.634600\n"
     ]
    }
   ],
   "source": [
    "\"\"\"\n",
    "DON'T MODIFY ANYTHING IN THIS CELL\n",
    "\"\"\"\n",
    "save_model_path = './image_classification'\n",
    "\n",
    "print('Training...')\n",
    "with tf.Session() as sess:\n",
    "    # Initializing the variables\n",
    "    sess.run(tf.global_variables_initializer())\n",
    "    \n",
    "    # Training cycle\n",
    "    for epoch in range(epochs):\n",
    "        # Loop over all batches\n",
    "        n_batches = 5\n",
    "        for batch_i in range(1, n_batches + 1):\n",
    "            for batch_features, batch_labels in helper.load_preprocess_training_batch(batch_i, batch_size):\n",
    "                train_neural_network(sess, optimizer, keep_probability, batch_features, batch_labels)\n",
    "            print('Epoch {:>2}, CIFAR-10 Batch {}:  '.format(epoch + 1, batch_i), end='')\n",
    "            print_stats(sess, batch_features, batch_labels, cost, accuracy)\n",
    "            \n",
    "    # Save Model\n",
    "    saver = tf.train.Saver()\n",
    "    save_path = saver.save(sess, save_model_path)"
   ]
  },
  {
   "cell_type": "markdown",
   "metadata": {
    "deletable": true,
    "editable": true
   },
   "source": [
    "# Checkpoint\n",
    "The model has been saved to disk.\n",
    "## Test Model\n",
    "Test your model against the test dataset.  This will be your final accuracy. You should have an accuracy greater than 50%. If you don't, keep tweaking the model architecture and parameters."
   ]
  },
  {
   "cell_type": "code",
   "execution_count": 354,
   "metadata": {
    "collapsed": false,
    "deletable": true,
    "editable": true
   },
   "outputs": [
    {
     "name": "stdout",
     "output_type": "stream",
     "text": [
      "Testing Accuracy: 0.6237062101910829\n",
      "\n"
     ]
    },
    {
     "data": {
      "image/png": "[encoded data removed]",
      "text/plain": [
       "<matplotlib.figure.Figure at 0x7fef1c5970b8>"
      ]
     },
     "metadata": {
      "image/png": {
       "height": 319,
       "width": 355
      }
     },
     "output_type": "display_data"
    }
   ],
   "source": [
    "\"\"\"\n",
    "DON'T MODIFY ANYTHING IN THIS CELL\n",
    "\"\"\"\n",
    "%matplotlib inline\n",
    "%config InlineBackend.figure_format = 'retina'\n",
    "\n",
    "import tensorflow as tf\n",
    "import pickle\n",
    "import helper\n",
    "import random\n",
    "\n",
    "# Set batch size if not already set\n",
    "try:\n",
    "    if batch_size:\n",
    "        pass\n",
    "except NameError:\n",
    "    batch_size = 64\n",
    "\n",
    "save_model_path = './image_classification'\n",
    "n_samples = 4\n",
    "top_n_predictions = 3\n",
    "\n",
    "def test_model():\n",
    "    \"\"\"\n",
    "    Test the saved model against the test dataset\n",
    "    \"\"\"\n",
    "\n",
    "    test_features, test_labels = pickle.load(open('preprocess_training.p', mode='rb'))\n",
    "    loaded_graph = tf.Graph()\n",
    "\n",
    "    with tf.Session(graph=loaded_graph) as sess:\n",
    "        # Load model\n",
    "        loader = tf.train.import_meta_graph(save_model_path + '.meta')\n",
    "        loader.restore(sess, save_model_path)\n",
    "\n",
    "        # Get Tensors from loaded model\n",
    "        loaded_x = loaded_graph.get_tensor_by_name('x:0')\n",
    "        loaded_y = loaded_graph.get_tensor_by_name('y:0')\n",
    "        loaded_keep_prob = loaded_graph.get_tensor_by_name('keep_prob:0')\n",
    "        loaded_logits = loaded_graph.get_tensor_by_name('logits:0')\n",
    "        loaded_acc = loaded_graph.get_tensor_by_name('accuracy:0')\n",
    "        \n",
    "        # Get accuracy in batches for memory limitations\n",
    "        test_batch_acc_total = 0\n",
    "        test_batch_count = 0\n",
    "        \n",
    "        for train_feature_batch, train_label_batch in helper.batch_features_labels(test_features, test_labels, batch_size):\n",
    "            test_batch_acc_total += sess.run(\n",
    "                loaded_acc,\n",
    "                feed_dict={loaded_x: train_feature_batch, loaded_y: train_label_batch, loaded_keep_prob: 1.0})\n",
    "            test_batch_count += 1\n",
    "\n",
    "        print('Testing Accuracy: {}\\n'.format(test_batch_acc_total/test_batch_count))\n",
    "\n",
    "        # Print Random Samples\n",
    "        random_test_features, random_test_labels = tuple(zip(*random.sample(list(zip(test_features, test_labels)), n_samples)))\n",
    "        random_test_predictions = sess.run(\n",
    "            tf.nn.top_k(tf.nn.softmax(loaded_logits), top_n_predictions),\n",
    "            feed_dict={loaded_x: random_test_features, loaded_y: random_test_labels, loaded_keep_prob: 1.0})\n",
    "        helper.display_image_predictions(random_test_features, random_test_labels, random_test_predictions)\n",
    "\n",
    "\n",
    "test_model()"
   ]
  },
  {
   "cell_type": "markdown",
   "metadata": {
    "deletable": true,
    "editable": true
   },
   "source": [
    "## Why 50-70% Accuracy?\n",
    "You might be wondering why you can't get an accuracy any higher. First things first, 50% isn't bad for a simple CNN.  Pure guessing would get you 10% accuracy. However, you might notice people are getting scores [well above 70%](http://rodrigob.github.io/are_we_there_yet/build/classification_datasets_results.html#43494641522d3130).  That's because we haven't taught you all there is to know about neural networks. We still need to cover a few more techniques.\n",
    "## Submitting This Project\n",
    "When submitting this project, make sure to run all the cells before saving the notebook.  Save the notebook file as \"dlnd_image_classification.ipynb\" and save it as a HTML file under \"File\" -> \"Download as\".  Include the \"helper.py\" and \"problem_unittests.py\" files in your submission."
   ]
  }
 ],
 "metadata": {
  "kernelspec": {
   "display_name": "Python 3",
   "language": "python",
   "name": "python3"
  },
  "language_info": {
   "codemirror_mode": {
    "name": "ipython",
    "version": 3
   },
   "file_extension": ".py",
   "mimetype": "text/x-python",
   "name": "python",
   "nbconvert_exporter": "python",
   "pygments_lexer": "ipython3",
   "version": "3.5.3"
  }
 },
 "nbformat": 4,
 "nbformat_minor": 0
}
